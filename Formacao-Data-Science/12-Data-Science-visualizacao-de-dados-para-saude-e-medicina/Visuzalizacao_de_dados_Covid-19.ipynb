{
 "cells": [
  {
   "cell_type": "markdown",
   "id": "71ff9f0e",
   "metadata": {},
   "source": [
    "# Data Science: visualizacao de dados para saude e medicina \n",
    "### Este curso é a parte 2 do curso anterior: '11-Data-Science-analises-para-saude-e-medicina'"
   ]
  },
  {
   "cell_type": "code",
   "execution_count": 1,
   "id": "97807ae6",
   "metadata": {},
   "outputs": [],
   "source": [
    "import pandas as pd\n",
    "import matplotlib.pyplot as plt\n",
    "import seaborn as sns\n",
    "import numpy as np"
   ]
  },
  {
   "cell_type": "code",
   "execution_count": 2,
   "id": "8083d33e",
   "metadata": {},
   "outputs": [
    {
     "data": {
      "text/html": [
       "<div>\n",
       "<style scoped>\n",
       "    .dataframe tbody tr th:only-of-type {\n",
       "        vertical-align: middle;\n",
       "    }\n",
       "\n",
       "    .dataframe tbody tr th {\n",
       "        vertical-align: top;\n",
       "    }\n",
       "\n",
       "    .dataframe thead th {\n",
       "        text-align: right;\n",
       "    }\n",
       "</style>\n",
       "<table border=\"1\" class=\"dataframe\">\n",
       "  <thead>\n",
       "    <tr style=\"text-align: right;\">\n",
       "      <th></th>\n",
       "      <th>Province/State</th>\n",
       "      <th>Country/Region</th>\n",
       "      <th>Lat</th>\n",
       "      <th>Long</th>\n",
       "      <th>1/22/20</th>\n",
       "      <th>1/23/20</th>\n",
       "      <th>1/24/20</th>\n",
       "      <th>1/25/20</th>\n",
       "      <th>1/26/20</th>\n",
       "      <th>1/27/20</th>\n",
       "      <th>...</th>\n",
       "      <th>7/26/21</th>\n",
       "      <th>7/27/21</th>\n",
       "      <th>7/28/21</th>\n",
       "      <th>7/29/21</th>\n",
       "      <th>7/30/21</th>\n",
       "      <th>7/31/21</th>\n",
       "      <th>8/1/21</th>\n",
       "      <th>8/2/21</th>\n",
       "      <th>8/3/21</th>\n",
       "      <th>8/4/21</th>\n",
       "    </tr>\n",
       "  </thead>\n",
       "  <tbody>\n",
       "    <tr>\n",
       "      <th>0</th>\n",
       "      <td>NaN</td>\n",
       "      <td>Afghanistan</td>\n",
       "      <td>33.93911</td>\n",
       "      <td>67.709953</td>\n",
       "      <td>0</td>\n",
       "      <td>0</td>\n",
       "      <td>0</td>\n",
       "      <td>0</td>\n",
       "      <td>0</td>\n",
       "      <td>0</td>\n",
       "      <td>...</td>\n",
       "      <td>82586</td>\n",
       "      <td>82586</td>\n",
       "      <td>82586</td>\n",
       "      <td>82586</td>\n",
       "      <td>82586</td>\n",
       "      <td>82586</td>\n",
       "      <td>82586</td>\n",
       "      <td>82586</td>\n",
       "      <td>82586</td>\n",
       "      <td>82586</td>\n",
       "    </tr>\n",
       "    <tr>\n",
       "      <th>1</th>\n",
       "      <td>NaN</td>\n",
       "      <td>Albania</td>\n",
       "      <td>41.15330</td>\n",
       "      <td>20.168300</td>\n",
       "      <td>0</td>\n",
       "      <td>0</td>\n",
       "      <td>0</td>\n",
       "      <td>0</td>\n",
       "      <td>0</td>\n",
       "      <td>0</td>\n",
       "      <td>...</td>\n",
       "      <td>130152</td>\n",
       "      <td>130166</td>\n",
       "      <td>130174</td>\n",
       "      <td>130187</td>\n",
       "      <td>130205</td>\n",
       "      <td>130222</td>\n",
       "      <td>130243</td>\n",
       "      <td>130256</td>\n",
       "      <td>130291</td>\n",
       "      <td>130314</td>\n",
       "    </tr>\n",
       "  </tbody>\n",
       "</table>\n",
       "<p>2 rows × 565 columns</p>\n",
       "</div>"
      ],
      "text/plain": [
       "  Province/State Country/Region       Lat       Long  1/22/20  1/23/20  \\\n",
       "0            NaN    Afghanistan  33.93911  67.709953        0        0   \n",
       "1            NaN        Albania  41.15330  20.168300        0        0   \n",
       "\n",
       "   1/24/20  1/25/20  1/26/20  1/27/20  ...  7/26/21  7/27/21  7/28/21  \\\n",
       "0        0        0        0        0  ...    82586    82586    82586   \n",
       "1        0        0        0        0  ...   130152   130166   130174   \n",
       "\n",
       "   7/29/21  7/30/21  7/31/21  8/1/21  8/2/21  8/3/21  8/4/21  \n",
       "0    82586    82586    82586   82586   82586   82586   82586  \n",
       "1   130187   130205   130222  130243  130256  130291  130314  \n",
       "\n",
       "[2 rows x 565 columns]"
      ]
     },
     "metadata": {},
     "output_type": "display_data"
    },
    {
     "data": {
      "text/html": [
       "<div>\n",
       "<style scoped>\n",
       "    .dataframe tbody tr th:only-of-type {\n",
       "        vertical-align: middle;\n",
       "    }\n",
       "\n",
       "    .dataframe tbody tr th {\n",
       "        vertical-align: top;\n",
       "    }\n",
       "\n",
       "    .dataframe thead th {\n",
       "        text-align: right;\n",
       "    }\n",
       "</style>\n",
       "<table border=\"1\" class=\"dataframe\">\n",
       "  <thead>\n",
       "    <tr style=\"text-align: right;\">\n",
       "      <th></th>\n",
       "      <th>Province/State</th>\n",
       "      <th>Country/Region</th>\n",
       "      <th>Lat</th>\n",
       "      <th>Long</th>\n",
       "      <th>1/22/20</th>\n",
       "      <th>1/23/20</th>\n",
       "      <th>1/24/20</th>\n",
       "      <th>1/25/20</th>\n",
       "      <th>1/26/20</th>\n",
       "      <th>1/27/20</th>\n",
       "      <th>...</th>\n",
       "      <th>7/26/21</th>\n",
       "      <th>7/27/21</th>\n",
       "      <th>7/28/21</th>\n",
       "      <th>7/29/21</th>\n",
       "      <th>7/30/21</th>\n",
       "      <th>7/31/21</th>\n",
       "      <th>8/1/21</th>\n",
       "      <th>8/2/21</th>\n",
       "      <th>8/3/21</th>\n",
       "      <th>8/4/21</th>\n",
       "    </tr>\n",
       "  </thead>\n",
       "  <tbody>\n",
       "    <tr>\n",
       "      <th>0</th>\n",
       "      <td>NaN</td>\n",
       "      <td>Afghanistan</td>\n",
       "      <td>33.93911</td>\n",
       "      <td>67.709953</td>\n",
       "      <td>0</td>\n",
       "      <td>0</td>\n",
       "      <td>0</td>\n",
       "      <td>0</td>\n",
       "      <td>0</td>\n",
       "      <td>0</td>\n",
       "      <td>...</td>\n",
       "      <td>6477</td>\n",
       "      <td>6515</td>\n",
       "      <td>6577</td>\n",
       "      <td>6615</td>\n",
       "      <td>6677</td>\n",
       "      <td>6708</td>\n",
       "      <td>6737</td>\n",
       "      <td>6774</td>\n",
       "      <td>6804</td>\n",
       "      <td>6836</td>\n",
       "    </tr>\n",
       "    <tr>\n",
       "      <th>1</th>\n",
       "      <td>NaN</td>\n",
       "      <td>Albania</td>\n",
       "      <td>41.15330</td>\n",
       "      <td>20.168300</td>\n",
       "      <td>0</td>\n",
       "      <td>0</td>\n",
       "      <td>0</td>\n",
       "      <td>0</td>\n",
       "      <td>0</td>\n",
       "      <td>0</td>\n",
       "      <td>...</td>\n",
       "      <td>2456</td>\n",
       "      <td>2456</td>\n",
       "      <td>2457</td>\n",
       "      <td>2457</td>\n",
       "      <td>2457</td>\n",
       "      <td>2457</td>\n",
       "      <td>2457</td>\n",
       "      <td>2457</td>\n",
       "      <td>2457</td>\n",
       "      <td>2457</td>\n",
       "    </tr>\n",
       "  </tbody>\n",
       "</table>\n",
       "<p>2 rows × 565 columns</p>\n",
       "</div>"
      ],
      "text/plain": [
       "  Province/State Country/Region       Lat       Long  1/22/20  1/23/20  \\\n",
       "0            NaN    Afghanistan  33.93911  67.709953        0        0   \n",
       "1            NaN        Albania  41.15330  20.168300        0        0   \n",
       "\n",
       "   1/24/20  1/25/20  1/26/20  1/27/20  ...  7/26/21  7/27/21  7/28/21  \\\n",
       "0        0        0        0        0  ...     6477     6515     6577   \n",
       "1        0        0        0        0  ...     2456     2456     2457   \n",
       "\n",
       "   7/29/21  7/30/21  7/31/21  8/1/21  8/2/21  8/3/21  8/4/21  \n",
       "0     6615     6677     6708    6737    6774    6804    6836  \n",
       "1     2457     2457     2457    2457    2457    2457    2457  \n",
       "\n",
       "[2 rows x 565 columns]"
      ]
     },
     "metadata": {},
     "output_type": "display_data"
    },
    {
     "data": {
      "text/html": [
       "<div>\n",
       "<style scoped>\n",
       "    .dataframe tbody tr th:only-of-type {\n",
       "        vertical-align: middle;\n",
       "    }\n",
       "\n",
       "    .dataframe tbody tr th {\n",
       "        vertical-align: top;\n",
       "    }\n",
       "\n",
       "    .dataframe thead th {\n",
       "        text-align: right;\n",
       "    }\n",
       "</style>\n",
       "<table border=\"1\" class=\"dataframe\">\n",
       "  <thead>\n",
       "    <tr style=\"text-align: right;\">\n",
       "      <th></th>\n",
       "      <th>Province/State</th>\n",
       "      <th>Country/Region</th>\n",
       "      <th>Lat</th>\n",
       "      <th>Long</th>\n",
       "      <th>1/22/20</th>\n",
       "      <th>1/23/20</th>\n",
       "      <th>1/24/20</th>\n",
       "      <th>1/25/20</th>\n",
       "      <th>1/26/20</th>\n",
       "      <th>1/27/20</th>\n",
       "      <th>...</th>\n",
       "      <th>7/26/21</th>\n",
       "      <th>7/27/21</th>\n",
       "      <th>7/28/21</th>\n",
       "      <th>7/29/21</th>\n",
       "      <th>7/30/21</th>\n",
       "      <th>7/31/21</th>\n",
       "      <th>8/1/21</th>\n",
       "      <th>8/2/21</th>\n",
       "      <th>8/3/21</th>\n",
       "      <th>8/4/21</th>\n",
       "    </tr>\n",
       "  </thead>\n",
       "  <tbody>\n",
       "    <tr>\n",
       "      <th>0</th>\n",
       "      <td>NaN</td>\n",
       "      <td>Afghanistan</td>\n",
       "      <td>33.93911</td>\n",
       "      <td>67.709953</td>\n",
       "      <td>0</td>\n",
       "      <td>0</td>\n",
       "      <td>0</td>\n",
       "      <td>0</td>\n",
       "      <td>0</td>\n",
       "      <td>0</td>\n",
       "      <td>...</td>\n",
       "      <td>144285</td>\n",
       "      <td>145008</td>\n",
       "      <td>145552</td>\n",
       "      <td>145996</td>\n",
       "      <td>146523</td>\n",
       "      <td>147154</td>\n",
       "      <td>147501</td>\n",
       "      <td>147985</td>\n",
       "      <td>148572</td>\n",
       "      <td>148933</td>\n",
       "    </tr>\n",
       "    <tr>\n",
       "      <th>1</th>\n",
       "      <td>NaN</td>\n",
       "      <td>Albania</td>\n",
       "      <td>41.15330</td>\n",
       "      <td>20.168300</td>\n",
       "      <td>0</td>\n",
       "      <td>0</td>\n",
       "      <td>0</td>\n",
       "      <td>0</td>\n",
       "      <td>0</td>\n",
       "      <td>0</td>\n",
       "      <td>...</td>\n",
       "      <td>132891</td>\n",
       "      <td>132922</td>\n",
       "      <td>132952</td>\n",
       "      <td>132999</td>\n",
       "      <td>133036</td>\n",
       "      <td>133081</td>\n",
       "      <td>133121</td>\n",
       "      <td>133146</td>\n",
       "      <td>133211</td>\n",
       "      <td>133310</td>\n",
       "    </tr>\n",
       "  </tbody>\n",
       "</table>\n",
       "<p>2 rows × 565 columns</p>\n",
       "</div>"
      ],
      "text/plain": [
       "  Province/State Country/Region       Lat       Long  1/22/20  1/23/20  \\\n",
       "0            NaN    Afghanistan  33.93911  67.709953        0        0   \n",
       "1            NaN        Albania  41.15330  20.168300        0        0   \n",
       "\n",
       "   1/24/20  1/25/20  1/26/20  1/27/20  ...  7/26/21  7/27/21  7/28/21  \\\n",
       "0        0        0        0        0  ...   144285   145008   145552   \n",
       "1        0        0        0        0  ...   132891   132922   132952   \n",
       "\n",
       "   7/29/21  7/30/21  7/31/21  8/1/21  8/2/21  8/3/21  8/4/21  \n",
       "0   145996   146523   147154  147501  147985  148572  148933  \n",
       "1   132999   133036   133081  133121  133146  133211  133310  \n",
       "\n",
       "[2 rows x 565 columns]"
      ]
     },
     "metadata": {},
     "output_type": "display_data"
    }
   ],
   "source": [
    "# Data\n",
    "confirmed = pd.read_csv('https://raw.githubusercontent.com/CSSEGISandData/COVID-19/master/csse_covid_19_data/csse_covid_19_time_series/time_series_covid19_confirmed_global.csv')\n",
    "deaths = pd.read_csv(\"https://raw.githubusercontent.com/CSSEGISandData/COVID-19/master/csse_covid_19_data/csse_covid_19_time_series/time_series_covid19_deaths_global.csv\")\n",
    "recovered = pd.read_csv(\"https://raw.githubusercontent.com/CSSEGISandData/COVID-19/master/csse_covid_19_data/csse_covid_19_time_series/time_series_covid19_recovered_global.csv\")\n",
    "\n",
    "# fatiamento do dataframe até '8/4/21' (último dia que foi atualizado)\n",
    "confirmed = confirmed.loc[:, :'8/4/21']\n",
    "deaths = deaths.loc[:, :'8/4/21']\n",
    "recovered = recovered.loc[:, :'8/4/21']\n",
    "\n",
    "display(recovered.head(2))\n",
    "display(deaths.head(2))\n",
    "display(confirmed.head(2))"
   ]
  },
  {
   "cell_type": "code",
   "execution_count": 3,
   "id": "194e217a",
   "metadata": {},
   "outputs": [
    {
     "data": {
      "text/plain": [
       "is_china\n",
       "False    10246\n",
       "True     80136\n",
       "Name: 3/2/20, dtype: int64"
      ]
     },
     "execution_count": 3,
     "metadata": {},
     "output_type": "execute_result"
    }
   ],
   "source": [
    "# ultimo dia (dia que o professor estava gravando a aula)\n",
    "last_date = '3/2/20'\n",
    "\n",
    "# criando coluna \"is_china\" \n",
    "is_china = confirmed['Country/Region'] == 'China'\n",
    "confirmed['is_china'] = is_china\n",
    "\n",
    "# Agrupando por 'is_china'\n",
    "china_or_not_groupby = confirmed.groupby('is_china').sum(numeric_only=True)[last_date]\n",
    "china_or_not_groupby"
   ]
  },
  {
   "cell_type": "code",
   "execution_count": 4,
   "id": "a1526b8f",
   "metadata": {},
   "outputs": [
    {
     "data": {
      "text/plain": [
       "<Axes: xlabel='is_china'>"
      ]
     },
     "execution_count": 4,
     "metadata": {},
     "output_type": "execute_result"
    },
    {
     "data": {
      "image/png": "[encoded data removed]",
      "text/plain": [
       "<Figure size 640x480 with 1 Axes>"
      ]
     },
     "metadata": {},
     "output_type": "display_data"
    }
   ],
   "source": [
    "china_or_not_groupby.plot(kind='bar')"
   ]
  },
  {
   "cell_type": "markdown",
   "id": "5de92323",
   "metadata": {},
   "source": [
    "## No dia 02/03/2020 mainland china tinha 8 vezes o número de casos que o resto.\n",
    "\n",
    "Mas olhar uma fotografia é muito limitado, queremos ver também como anda esse crescimento.\n",
    "\n",
    "É até injusto pois estamos resumindo as informações e com isso, perdendo elas."
   ]
  },
  {
   "cell_type": "code",
   "execution_count": 5,
   "id": "f6e3731e",
   "metadata": {},
   "outputs": [
    {
     "data": {
      "text/html": [
       "<div>\n",
       "<style scoped>\n",
       "    .dataframe tbody tr th:only-of-type {\n",
       "        vertical-align: middle;\n",
       "    }\n",
       "\n",
       "    .dataframe tbody tr th {\n",
       "        vertical-align: top;\n",
       "    }\n",
       "\n",
       "    .dataframe thead th {\n",
       "        text-align: right;\n",
       "    }\n",
       "</style>\n",
       "<table border=\"1\" class=\"dataframe\">\n",
       "  <thead>\n",
       "    <tr style=\"text-align: right;\">\n",
       "      <th></th>\n",
       "      <th>Province/State</th>\n",
       "      <th>Country/Region</th>\n",
       "      <th>Lat</th>\n",
       "      <th>Long</th>\n",
       "      <th>1/22/20</th>\n",
       "      <th>1/23/20</th>\n",
       "      <th>1/24/20</th>\n",
       "      <th>1/25/20</th>\n",
       "      <th>1/26/20</th>\n",
       "      <th>1/27/20</th>\n",
       "      <th>...</th>\n",
       "      <th>7/28/21</th>\n",
       "      <th>7/29/21</th>\n",
       "      <th>7/30/21</th>\n",
       "      <th>7/31/21</th>\n",
       "      <th>8/1/21</th>\n",
       "      <th>8/2/21</th>\n",
       "      <th>8/3/21</th>\n",
       "      <th>8/4/21</th>\n",
       "      <th>is_china</th>\n",
       "      <th>is_china_label</th>\n",
       "    </tr>\n",
       "  </thead>\n",
       "  <tbody>\n",
       "    <tr>\n",
       "      <th>153</th>\n",
       "      <td>NaN</td>\n",
       "      <td>Israel</td>\n",
       "      <td>31.046051</td>\n",
       "      <td>34.851612</td>\n",
       "      <td>0</td>\n",
       "      <td>0</td>\n",
       "      <td>0</td>\n",
       "      <td>0</td>\n",
       "      <td>0</td>\n",
       "      <td>0</td>\n",
       "      <td>...</td>\n",
       "      <td>867240</td>\n",
       "      <td>869063</td>\n",
       "      <td>871343</td>\n",
       "      <td>874018</td>\n",
       "      <td>875801</td>\n",
       "      <td>879650</td>\n",
       "      <td>882798</td>\n",
       "      <td>885766</td>\n",
       "      <td>False</td>\n",
       "      <td>Others</td>\n",
       "    </tr>\n",
       "    <tr>\n",
       "      <th>137</th>\n",
       "      <td>NaN</td>\n",
       "      <td>Greece</td>\n",
       "      <td>39.074200</td>\n",
       "      <td>21.824300</td>\n",
       "      <td>0</td>\n",
       "      <td>0</td>\n",
       "      <td>0</td>\n",
       "      <td>0</td>\n",
       "      <td>0</td>\n",
       "      <td>0</td>\n",
       "      <td>...</td>\n",
       "      <td>485015</td>\n",
       "      <td>487709</td>\n",
       "      <td>490552</td>\n",
       "      <td>493304</td>\n",
       "      <td>494907</td>\n",
       "      <td>497061</td>\n",
       "      <td>501030</td>\n",
       "      <td>503885</td>\n",
       "      <td>False</td>\n",
       "      <td>Others</td>\n",
       "    </tr>\n",
       "    <tr>\n",
       "      <th>258</th>\n",
       "      <td>NaN</td>\n",
       "      <td>Turkey</td>\n",
       "      <td>38.963700</td>\n",
       "      <td>35.243300</td>\n",
       "      <td>0</td>\n",
       "      <td>0</td>\n",
       "      <td>0</td>\n",
       "      <td>0</td>\n",
       "      <td>0</td>\n",
       "      <td>0</td>\n",
       "      <td>...</td>\n",
       "      <td>5660469</td>\n",
       "      <td>5682630</td>\n",
       "      <td>5704713</td>\n",
       "      <td>5727045</td>\n",
       "      <td>5747935</td>\n",
       "      <td>5770833</td>\n",
       "      <td>5795665</td>\n",
       "      <td>5822487</td>\n",
       "      <td>False</td>\n",
       "      <td>Others</td>\n",
       "    </tr>\n",
       "    <tr>\n",
       "      <th>174</th>\n",
       "      <td>NaN</td>\n",
       "      <td>Luxembourg</td>\n",
       "      <td>49.815300</td>\n",
       "      <td>6.129600</td>\n",
       "      <td>0</td>\n",
       "      <td>0</td>\n",
       "      <td>0</td>\n",
       "      <td>0</td>\n",
       "      <td>0</td>\n",
       "      <td>0</td>\n",
       "      <td>...</td>\n",
       "      <td>73744</td>\n",
       "      <td>73816</td>\n",
       "      <td>73870</td>\n",
       "      <td>73870</td>\n",
       "      <td>73870</td>\n",
       "      <td>73990</td>\n",
       "      <td>74042</td>\n",
       "      <td>74144</td>\n",
       "      <td>False</td>\n",
       "      <td>Others</td>\n",
       "    </tr>\n",
       "    <tr>\n",
       "      <th>27</th>\n",
       "      <td>NaN</td>\n",
       "      <td>Bhutan</td>\n",
       "      <td>27.514200</td>\n",
       "      <td>90.433600</td>\n",
       "      <td>0</td>\n",
       "      <td>0</td>\n",
       "      <td>0</td>\n",
       "      <td>0</td>\n",
       "      <td>0</td>\n",
       "      <td>0</td>\n",
       "      <td>...</td>\n",
       "      <td>2501</td>\n",
       "      <td>2506</td>\n",
       "      <td>2508</td>\n",
       "      <td>2515</td>\n",
       "      <td>2518</td>\n",
       "      <td>2524</td>\n",
       "      <td>2532</td>\n",
       "      <td>2540</td>\n",
       "      <td>False</td>\n",
       "      <td>Others</td>\n",
       "    </tr>\n",
       "  </tbody>\n",
       "</table>\n",
       "<p>5 rows × 567 columns</p>\n",
       "</div>"
      ],
      "text/plain": [
       "    Province/State Country/Region        Lat       Long  1/22/20  1/23/20  \\\n",
       "153            NaN         Israel  31.046051  34.851612        0        0   \n",
       "137            NaN         Greece  39.074200  21.824300        0        0   \n",
       "258            NaN         Turkey  38.963700  35.243300        0        0   \n",
       "174            NaN     Luxembourg  49.815300   6.129600        0        0   \n",
       "27             NaN         Bhutan  27.514200  90.433600        0        0   \n",
       "\n",
       "     1/24/20  1/25/20  1/26/20  1/27/20  ...  7/28/21  7/29/21  7/30/21  \\\n",
       "153        0        0        0        0  ...   867240   869063   871343   \n",
       "137        0        0        0        0  ...   485015   487709   490552   \n",
       "258        0        0        0        0  ...  5660469  5682630  5704713   \n",
       "174        0        0        0        0  ...    73744    73816    73870   \n",
       "27         0        0        0        0  ...     2501     2506     2508   \n",
       "\n",
       "     7/31/21   8/1/21   8/2/21   8/3/21   8/4/21  is_china  is_china_label  \n",
       "153   874018   875801   879650   882798   885766     False          Others  \n",
       "137   493304   494907   497061   501030   503885     False          Others  \n",
       "258  5727045  5747935  5770833  5795665  5822487     False          Others  \n",
       "174    73870    73870    73990    74042    74144     False          Others  \n",
       "27      2515     2518     2524     2532     2540     False          Others  \n",
       "\n",
       "[5 rows x 567 columns]"
      ]
     },
     "execution_count": 5,
     "metadata": {},
     "output_type": "execute_result"
    }
   ],
   "source": [
    "# Transformando True e False em strings no DataFrame\n",
    "\n",
    "confirmed['is_china_label'] = np.where(confirmed.is_china, 'China', 'Others')\n",
    "confirmed.sample(5)"
   ]
  },
  {
   "cell_type": "code",
   "execution_count": 6,
   "id": "cd26dcb3",
   "metadata": {},
   "outputs": [
    {
     "data": {
      "text/plain": [
       "<Axes: xlabel='is_china_label'>"
      ]
     },
     "execution_count": 6,
     "metadata": {},
     "output_type": "execute_result"
    },
    {
     "data": {
      "image/png": "[encoded data removed]",
      "text/plain": [
       "<Figure size 640x480 with 1 Axes>"
      ]
     },
     "metadata": {},
     "output_type": "display_data"
    }
   ],
   "source": [
    "china_or_not_groupby = confirmed.groupby('is_china_label').sum(numeric_only=True)[last_date]\n",
    "china_or_not_groupby.plot(kind='bar')"
   ]
  },
  {
   "cell_type": "code",
   "execution_count": 7,
   "id": "05303914",
   "metadata": {},
   "outputs": [],
   "source": [
    "# Função de busca ao dia anterior ao 'last_date'\n",
    "\n",
    "def day_before_last_date(last_date):\n",
    "    from datetime import datetime, timedelta\n",
    "    date_format = \"%m/%d/%y\"\n",
    "    date = datetime.strptime(last_date, date_format)\n",
    "    day_before_date = date - timedelta(days=1)\n",
    "    day_before_last_date_str = \"{}/{}/{}\".format(day_before_date.month, day_before_date.day, day_before_date.year % 100)\n",
    "    return day_before_last_date_str\n",
    "\n",
    "# dia anterior\n",
    "day_before_last_date = day_before_last_date(last_date)"
   ]
  },
  {
   "cell_type": "code",
   "execution_count": 15,
   "id": "878d7c0d",
   "metadata": {},
   "outputs": [
    {
     "data": {
      "image/png": "[encoded data removed]",
      "text/plain": [
       "<Figure size 640x480 with 1 Axes>"
      ]
     },
     "metadata": {},
     "output_type": "display_data"
    }
   ],
   "source": [
    "# Crescimento\n",
    "\n",
    "china_or_not_groupby = confirmed.groupby('is_china_label').sum(numeric_only=True).loc[:, : last_date]\n",
    "# coluna crescimento\n",
    "china_or_not_groupby['delta'] = china_or_not_groupby[last_date] - china_or_not_groupby[day_before_last_date]\n",
    "\n",
    "# Plot\n",
    "china_or_not_groupby['delta'].plot(kind='bar')\n",
    "plt.title(f'Novos casos confirmados em {last_date}')\n",
    "plt.xlabel('')\n",
    "plt.show()"
   ]
  },
  {
   "cell_type": "code",
   "execution_count": 40,
   "id": "ea32b5fe",
   "metadata": {},
   "outputs": [
    {
     "data": {
      "image/png": "[encoded data removed]",
      "text/plain": [
       "<Figure size 640x480 with 1 Axes>"
      ]
     },
     "metadata": {},
     "output_type": "display_data"
    }
   ],
   "source": [
    "# Transpose para plotar melhor\n",
    "T_china_or_not_groupby = china_or_not_groupby.T[2:-2]\n",
    "\n",
    "# Plot Desenvolvimento de casos China vs outros\n",
    "T_china_or_not_groupby.plot()\n",
    "plt.title('Desenvolvimento de casos confirmados ao longo do tempo')\n",
    "plt.show()"
   ]
  },
  {
   "cell_type": "code",
   "execution_count": 46,
   "id": "88f45b26",
   "metadata": {},
   "outputs": [],
   "source": [
    "# Aumento de casos por dia"
   ]
  },
  {
   "cell_type": "code",
   "execution_count": 45,
   "id": "ff3a7dfe",
   "metadata": {},
   "outputs": [
    {
     "data": {
      "text/html": [
       "<div>\n",
       "<style scoped>\n",
       "    .dataframe tbody tr th:only-of-type {\n",
       "        vertical-align: middle;\n",
       "    }\n",
       "\n",
       "    .dataframe tbody tr th {\n",
       "        vertical-align: top;\n",
       "    }\n",
       "\n",
       "    .dataframe thead th {\n",
       "        text-align: right;\n",
       "    }\n",
       "</style>\n",
       "<table border=\"1\" class=\"dataframe\">\n",
       "  <thead>\n",
       "    <tr style=\"text-align: right;\">\n",
       "      <th>is_china_label</th>\n",
       "      <th>China</th>\n",
       "      <th>Others</th>\n",
       "    </tr>\n",
       "  </thead>\n",
       "  <tbody>\n",
       "    <tr>\n",
       "      <th>1/22/20</th>\n",
       "      <td>NaN</td>\n",
       "      <td>NaN</td>\n",
       "    </tr>\n",
       "    <tr>\n",
       "      <th>1/23/20</th>\n",
       "      <td>95.0</td>\n",
       "      <td>5.0</td>\n",
       "    </tr>\n",
       "    <tr>\n",
       "      <th>1/24/20</th>\n",
       "      <td>277.0</td>\n",
       "      <td>10.0</td>\n",
       "    </tr>\n",
       "  </tbody>\n",
       "</table>\n",
       "</div>"
      ],
      "text/plain": [
       "is_china_label  China  Others\n",
       "1/22/20           NaN     NaN\n",
       "1/23/20          95.0     5.0\n",
       "1/24/20         277.0    10.0"
      ]
     },
     "execution_count": 45,
     "metadata": {},
     "output_type": "execute_result"
    }
   ],
   "source": [
    "# diff\n",
    "T_china_or_not_groupby.diff().head(3)"
   ]
  },
  {
   "cell_type": "code",
   "execution_count": 49,
   "id": "5252c805",
   "metadata": {},
   "outputs": [
    {
     "data": {
      "image/png": "[encoded data removed]",
      "text/plain": [
       "<Figure size 640x480 with 1 Axes>"
      ]
     },
     "metadata": {},
     "output_type": "display_data"
    }
   ],
   "source": [
    "# plot\n",
    "differences = T_china_or_not_groupby.diff().dropna()\n",
    "differences.plot()\n",
    "plt.title('Cosos novos ao longo do tempo')\n",
    "plt.show()"
   ]
  },
  {
   "cell_type": "markdown",
   "id": "c5f72395",
   "metadata": {},
   "source": [
    "## Taxa de Incidencia"
   ]
  },
  {
   "cell_type": "code",
   "execution_count": 55,
   "id": "da5f379f",
   "metadata": {},
   "outputs": [
    {
     "data": {
      "text/plain": [
       "80136"
      ]
     },
     "execution_count": 55,
     "metadata": {},
     "output_type": "execute_result"
    }
   ],
   "source": [
    "cases_china = china_or_not_groupby[last_date].loc['China']\n",
    "cases_china"
   ]
  },
  {
   "cell_type": "code",
   "execution_count": 56,
   "id": "1be61c13",
   "metadata": {},
   "outputs": [],
   "source": [
    "estimated_china_population = 1437525528"
   ]
  },
  {
   "cell_type": "code",
   "execution_count": 58,
   "id": "958a298c",
   "metadata": {},
   "outputs": [
    {
     "data": {
      "text/plain": [
       "5.574579264097771e-05"
      ]
     },
     "execution_count": 58,
     "metadata": {},
     "output_type": "execute_result"
    }
   ],
   "source": [
    "incidende_ratio = (cases_china / estimated_china_population) * 100000\n",
    "incidende_ratio"
   ]
  },
  {
   "cell_type": "code",
   "execution_count": 65,
   "id": "06373565",
   "metadata": {},
   "outputs": [
    {
     "data": {
      "text/html": [
       "<div>\n",
       "<style scoped>\n",
       "    .dataframe tbody tr th:only-of-type {\n",
       "        vertical-align: middle;\n",
       "    }\n",
       "\n",
       "    .dataframe tbody tr th {\n",
       "        vertical-align: top;\n",
       "    }\n",
       "\n",
       "    .dataframe thead th {\n",
       "        text-align: right;\n",
       "    }\n",
       "</style>\n",
       "<table border=\"1\" class=\"dataframe\">\n",
       "  <thead>\n",
       "    <tr style=\"text-align: right;\">\n",
       "      <th></th>\n",
       "      <th>LocID</th>\n",
       "      <th>Location</th>\n",
       "      <th>VarID</th>\n",
       "      <th>Variant</th>\n",
       "      <th>Time</th>\n",
       "      <th>MidPeriod</th>\n",
       "      <th>PopMale</th>\n",
       "      <th>PopFemale</th>\n",
       "      <th>PopTotal</th>\n",
       "      <th>PopDensity</th>\n",
       "    </tr>\n",
       "  </thead>\n",
       "  <tbody>\n",
       "    <tr>\n",
       "      <th>0</th>\n",
       "      <td>4</td>\n",
       "      <td>Afghanistan</td>\n",
       "      <td>2</td>\n",
       "      <td>Medium</td>\n",
       "      <td>1950</td>\n",
       "      <td>1950.5</td>\n",
       "      <td>4099.243</td>\n",
       "      <td>3652.874</td>\n",
       "      <td>7752.117</td>\n",
       "      <td>11.874</td>\n",
       "    </tr>\n",
       "    <tr>\n",
       "      <th>1</th>\n",
       "      <td>4</td>\n",
       "      <td>Afghanistan</td>\n",
       "      <td>2</td>\n",
       "      <td>Medium</td>\n",
       "      <td>1951</td>\n",
       "      <td>1951.5</td>\n",
       "      <td>4134.756</td>\n",
       "      <td>3705.395</td>\n",
       "      <td>7840.151</td>\n",
       "      <td>12.009</td>\n",
       "    </tr>\n",
       "    <tr>\n",
       "      <th>2</th>\n",
       "      <td>4</td>\n",
       "      <td>Afghanistan</td>\n",
       "      <td>2</td>\n",
       "      <td>Medium</td>\n",
       "      <td>1952</td>\n",
       "      <td>1952.5</td>\n",
       "      <td>4174.450</td>\n",
       "      <td>3761.546</td>\n",
       "      <td>7935.996</td>\n",
       "      <td>12.156</td>\n",
       "    </tr>\n",
       "    <tr>\n",
       "      <th>3</th>\n",
       "      <td>4</td>\n",
       "      <td>Afghanistan</td>\n",
       "      <td>2</td>\n",
       "      <td>Medium</td>\n",
       "      <td>1953</td>\n",
       "      <td>1953.5</td>\n",
       "      <td>4218.336</td>\n",
       "      <td>3821.348</td>\n",
       "      <td>8039.684</td>\n",
       "      <td>12.315</td>\n",
       "    </tr>\n",
       "    <tr>\n",
       "      <th>4</th>\n",
       "      <td>4</td>\n",
       "      <td>Afghanistan</td>\n",
       "      <td>2</td>\n",
       "      <td>Medium</td>\n",
       "      <td>1954</td>\n",
       "      <td>1954.5</td>\n",
       "      <td>4266.484</td>\n",
       "      <td>3884.832</td>\n",
       "      <td>8151.316</td>\n",
       "      <td>12.486</td>\n",
       "    </tr>\n",
       "  </tbody>\n",
       "</table>\n",
       "</div>"
      ],
      "text/plain": [
       "   LocID     Location  VarID Variant  Time  MidPeriod   PopMale  PopFemale  \\\n",
       "0      4  Afghanistan      2  Medium  1950     1950.5  4099.243   3652.874   \n",
       "1      4  Afghanistan      2  Medium  1951     1951.5  4134.756   3705.395   \n",
       "2      4  Afghanistan      2  Medium  1952     1952.5  4174.450   3761.546   \n",
       "3      4  Afghanistan      2  Medium  1953     1953.5  4218.336   3821.348   \n",
       "4      4  Afghanistan      2  Medium  1954     1954.5  4266.484   3884.832   \n",
       "\n",
       "   PopTotal  PopDensity  \n",
       "0  7752.117      11.874  \n",
       "1  7840.151      12.009  \n",
       "2  7935.996      12.156  \n",
       "3  8039.684      12.315  \n",
       "4  8151.316      12.486  "
      ]
     },
     "execution_count": 65,
     "metadata": {},
     "output_type": "execute_result"
    }
   ],
   "source": [
    "un_population = pd.read_csv(\"https://raw.githubusercontent.com/IgorNascAlves/data-science-primeiros-passos/master/WPP2019_TotalPopulationBySex.csv\")\n",
    "un_population.head()"
   ]
  },
  {
   "cell_type": "code",
   "execution_count": 83,
   "id": "9edcc00b",
   "metadata": {},
   "outputs": [
    {
     "data": {
      "text/plain": [
       "1145203093.953"
      ]
     },
     "execution_count": 83,
     "metadata": {},
     "output_type": "execute_result"
    }
   ],
   "source": [
    "populacao_total_china = un_population.groupby('Location').sum(numeric_only=True).loc['China']['PopTotal']\n",
    "populacao_total_china"
   ]
  },
  {
   "cell_type": "code",
   "execution_count": null,
   "id": "9a6a49cf",
   "metadata": {},
   "outputs": [],
   "source": []
  },
  {
   "cell_type": "code",
   "execution_count": null,
   "id": "ac96b024",
   "metadata": {},
   "outputs": [],
   "source": []
  }
 ],
 "metadata": {
  "kernelspec": {
   "display_name": "Python 3 (ipykernel)",
   "language": "python",
   "name": "python3"
  },
  "language_info": {
   "codemirror_mode": {
    "name": "ipython",
    "version": 3
   },
   "file_extension": ".py",
   "mimetype": "text/x-python",
   "name": "python",
   "nbconvert_exporter": "python",
   "pygments_lexer": "ipython3",
   "version": "3.11.4"
  }
 },
 "nbformat": 4,
 "nbformat_minor": 5
}
