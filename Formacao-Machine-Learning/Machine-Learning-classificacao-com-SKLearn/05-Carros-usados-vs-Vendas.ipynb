{
 "cells": [
  {
   "cell_type": "code",
   "execution_count": 1,
   "id": "ebd6f0dc",
   "metadata": {},
   "outputs": [
    {
     "data": {
      "text/html": [
       "<div>\n",
       "<style scoped>\n",
       "    .dataframe tbody tr th:only-of-type {\n",
       "        vertical-align: middle;\n",
       "    }\n",
       "\n",
       "    .dataframe tbody tr th {\n",
       "        vertical-align: top;\n",
       "    }\n",
       "\n",
       "    .dataframe thead th {\n",
       "        text-align: right;\n",
       "    }\n",
       "</style>\n",
       "<table border=\"1\" class=\"dataframe\">\n",
       "  <thead>\n",
       "    <tr style=\"text-align: right;\">\n",
       "      <th></th>\n",
       "      <th>mileage_per_year</th>\n",
       "      <th>model_year</th>\n",
       "      <th>price</th>\n",
       "      <th>sold</th>\n",
       "    </tr>\n",
       "  </thead>\n",
       "  <tbody>\n",
       "    <tr>\n",
       "      <th>0</th>\n",
       "      <td>21801</td>\n",
       "      <td>2000</td>\n",
       "      <td>30941.02</td>\n",
       "      <td>yes</td>\n",
       "    </tr>\n",
       "    <tr>\n",
       "      <th>1</th>\n",
       "      <td>7843</td>\n",
       "      <td>1998</td>\n",
       "      <td>40557.96</td>\n",
       "      <td>yes</td>\n",
       "    </tr>\n",
       "    <tr>\n",
       "      <th>2</th>\n",
       "      <td>7109</td>\n",
       "      <td>2006</td>\n",
       "      <td>89627.50</td>\n",
       "      <td>no</td>\n",
       "    </tr>\n",
       "    <tr>\n",
       "      <th>3</th>\n",
       "      <td>26823</td>\n",
       "      <td>2015</td>\n",
       "      <td>95276.14</td>\n",
       "      <td>no</td>\n",
       "    </tr>\n",
       "    <tr>\n",
       "      <th>4</th>\n",
       "      <td>7935</td>\n",
       "      <td>2014</td>\n",
       "      <td>117384.68</td>\n",
       "      <td>yes</td>\n",
       "    </tr>\n",
       "  </tbody>\n",
       "</table>\n",
       "</div>"
      ],
      "text/plain": [
       "   mileage_per_year  model_year      price sold\n",
       "0             21801        2000   30941.02  yes\n",
       "1              7843        1998   40557.96  yes\n",
       "2              7109        2006   89627.50   no\n",
       "3             26823        2015   95276.14   no\n",
       "4              7935        2014  117384.68  yes"
      ]
     },
     "execution_count": 1,
     "metadata": {},
     "output_type": "execute_result"
    }
   ],
   "source": [
    "import pandas as pd\n",
    "\n",
    "uri = \"https://gist.githubusercontent.com/guilhermesilveira/4d1d4a16ccbf6ea4e0a64a38a24ec884/raw/afd05cb0c796d18f3f5a6537053ded308ba94bf7/car-prices.csv\"\n",
    "df = pd.read_csv(uri, index_col=0)\n",
    "df.head()"
   ]
  },
  {
   "cell_type": "markdown",
   "id": "69afb043",
   "metadata": {},
   "source": [
    "### sold para 1 e 0"
   ]
  },
  {
   "cell_type": "code",
   "execution_count": 2,
   "id": "10c27afe",
   "metadata": {},
   "outputs": [
    {
     "data": {
      "text/plain": [
       "array(['yes', 'no'], dtype=object)"
      ]
     },
     "execution_count": 2,
     "metadata": {},
     "output_type": "execute_result"
    }
   ],
   "source": [
    "df['sold'].unique()"
   ]
  },
  {
   "cell_type": "code",
   "execution_count": 3,
   "id": "acd9e357",
   "metadata": {},
   "outputs": [
    {
     "data": {
      "text/html": [
       "<div>\n",
       "<style scoped>\n",
       "    .dataframe tbody tr th:only-of-type {\n",
       "        vertical-align: middle;\n",
       "    }\n",
       "\n",
       "    .dataframe tbody tr th {\n",
       "        vertical-align: top;\n",
       "    }\n",
       "\n",
       "    .dataframe thead th {\n",
       "        text-align: right;\n",
       "    }\n",
       "</style>\n",
       "<table border=\"1\" class=\"dataframe\">\n",
       "  <thead>\n",
       "    <tr style=\"text-align: right;\">\n",
       "      <th></th>\n",
       "      <th>mileage_per_year</th>\n",
       "      <th>model_year</th>\n",
       "      <th>price</th>\n",
       "      <th>sold</th>\n",
       "    </tr>\n",
       "  </thead>\n",
       "  <tbody>\n",
       "    <tr>\n",
       "      <th>0</th>\n",
       "      <td>21801</td>\n",
       "      <td>2000</td>\n",
       "      <td>30941.02</td>\n",
       "      <td>1</td>\n",
       "    </tr>\n",
       "    <tr>\n",
       "      <th>1</th>\n",
       "      <td>7843</td>\n",
       "      <td>1998</td>\n",
       "      <td>40557.96</td>\n",
       "      <td>1</td>\n",
       "    </tr>\n",
       "    <tr>\n",
       "      <th>2</th>\n",
       "      <td>7109</td>\n",
       "      <td>2006</td>\n",
       "      <td>89627.50</td>\n",
       "      <td>0</td>\n",
       "    </tr>\n",
       "    <tr>\n",
       "      <th>3</th>\n",
       "      <td>26823</td>\n",
       "      <td>2015</td>\n",
       "      <td>95276.14</td>\n",
       "      <td>0</td>\n",
       "    </tr>\n",
       "    <tr>\n",
       "      <th>4</th>\n",
       "      <td>7935</td>\n",
       "      <td>2014</td>\n",
       "      <td>117384.68</td>\n",
       "      <td>1</td>\n",
       "    </tr>\n",
       "  </tbody>\n",
       "</table>\n",
       "</div>"
      ],
      "text/plain": [
       "   mileage_per_year  model_year      price  sold\n",
       "0             21801        2000   30941.02     1\n",
       "1              7843        1998   40557.96     1\n",
       "2              7109        2006   89627.50     0\n",
       "3             26823        2015   95276.14     0\n",
       "4              7935        2014  117384.68     1"
      ]
     },
     "execution_count": 3,
     "metadata": {},
     "output_type": "execute_result"
    }
   ],
   "source": [
    "trocar = {\n",
    "    'no' : 0,\n",
    "    'yes' : 1\n",
    "}\n",
    "df['sold'] = df['sold'].map(trocar)\n",
    "df.head()"
   ]
  },
  {
   "cell_type": "markdown",
   "id": "11a36407",
   "metadata": {},
   "source": [
    "### Ano modelo para idade"
   ]
  },
  {
   "cell_type": "code",
   "execution_count": 4,
   "id": "f47cc130",
   "metadata": {},
   "outputs": [
    {
     "data": {
      "text/html": [
       "<div>\n",
       "<style scoped>\n",
       "    .dataframe tbody tr th:only-of-type {\n",
       "        vertical-align: middle;\n",
       "    }\n",
       "\n",
       "    .dataframe tbody tr th {\n",
       "        vertical-align: top;\n",
       "    }\n",
       "\n",
       "    .dataframe thead th {\n",
       "        text-align: right;\n",
       "    }\n",
       "</style>\n",
       "<table border=\"1\" class=\"dataframe\">\n",
       "  <thead>\n",
       "    <tr style=\"text-align: right;\">\n",
       "      <th></th>\n",
       "      <th>mileage_per_year</th>\n",
       "      <th>model_year</th>\n",
       "      <th>price</th>\n",
       "      <th>sold</th>\n",
       "      <th>age</th>\n",
       "    </tr>\n",
       "  </thead>\n",
       "  <tbody>\n",
       "    <tr>\n",
       "      <th>0</th>\n",
       "      <td>21801</td>\n",
       "      <td>2000</td>\n",
       "      <td>30941.02</td>\n",
       "      <td>1</td>\n",
       "      <td>23</td>\n",
       "    </tr>\n",
       "    <tr>\n",
       "      <th>1</th>\n",
       "      <td>7843</td>\n",
       "      <td>1998</td>\n",
       "      <td>40557.96</td>\n",
       "      <td>1</td>\n",
       "      <td>25</td>\n",
       "    </tr>\n",
       "    <tr>\n",
       "      <th>2</th>\n",
       "      <td>7109</td>\n",
       "      <td>2006</td>\n",
       "      <td>89627.50</td>\n",
       "      <td>0</td>\n",
       "      <td>17</td>\n",
       "    </tr>\n",
       "    <tr>\n",
       "      <th>3</th>\n",
       "      <td>26823</td>\n",
       "      <td>2015</td>\n",
       "      <td>95276.14</td>\n",
       "      <td>0</td>\n",
       "      <td>8</td>\n",
       "    </tr>\n",
       "    <tr>\n",
       "      <th>4</th>\n",
       "      <td>7935</td>\n",
       "      <td>2014</td>\n",
       "      <td>117384.68</td>\n",
       "      <td>1</td>\n",
       "      <td>9</td>\n",
       "    </tr>\n",
       "  </tbody>\n",
       "</table>\n",
       "</div>"
      ],
      "text/plain": [
       "   mileage_per_year  model_year      price  sold  age\n",
       "0             21801        2000   30941.02     1   23\n",
       "1              7843        1998   40557.96     1   25\n",
       "2              7109        2006   89627.50     0   17\n",
       "3             26823        2015   95276.14     0    8\n",
       "4              7935        2014  117384.68     1    9"
      ]
     },
     "execution_count": 4,
     "metadata": {},
     "output_type": "execute_result"
    }
   ],
   "source": [
    "from datetime import datetime\n",
    "\n",
    "ano_atual = datetime.today().year\n",
    "df['age'] = ano_atual - df.model_year\n",
    "df.head()"
   ]
  },
  {
   "cell_type": "markdown",
   "id": "6d16f2ca",
   "metadata": {},
   "source": [
    "### mileage_per_year para km_per_year"
   ]
  },
  {
   "cell_type": "code",
   "execution_count": 5,
   "id": "19cf1b89",
   "metadata": {},
   "outputs": [
    {
     "data": {
      "text/html": [
       "<div>\n",
       "<style scoped>\n",
       "    .dataframe tbody tr th:only-of-type {\n",
       "        vertical-align: middle;\n",
       "    }\n",
       "\n",
       "    .dataframe tbody tr th {\n",
       "        vertical-align: top;\n",
       "    }\n",
       "\n",
       "    .dataframe thead th {\n",
       "        text-align: right;\n",
       "    }\n",
       "</style>\n",
       "<table border=\"1\" class=\"dataframe\">\n",
       "  <thead>\n",
       "    <tr style=\"text-align: right;\">\n",
       "      <th></th>\n",
       "      <th>mileage_per_year</th>\n",
       "      <th>model_year</th>\n",
       "      <th>price</th>\n",
       "      <th>sold</th>\n",
       "      <th>age</th>\n",
       "      <th>km_per_year</th>\n",
       "    </tr>\n",
       "  </thead>\n",
       "  <tbody>\n",
       "    <tr>\n",
       "      <th>0</th>\n",
       "      <td>21801</td>\n",
       "      <td>2000</td>\n",
       "      <td>30941.02</td>\n",
       "      <td>1</td>\n",
       "      <td>23</td>\n",
       "      <td>35085.308544</td>\n",
       "    </tr>\n",
       "    <tr>\n",
       "      <th>1</th>\n",
       "      <td>7843</td>\n",
       "      <td>1998</td>\n",
       "      <td>40557.96</td>\n",
       "      <td>1</td>\n",
       "      <td>25</td>\n",
       "      <td>12622.084992</td>\n",
       "    </tr>\n",
       "    <tr>\n",
       "      <th>2</th>\n",
       "      <td>7109</td>\n",
       "      <td>2006</td>\n",
       "      <td>89627.50</td>\n",
       "      <td>0</td>\n",
       "      <td>17</td>\n",
       "      <td>11440.826496</td>\n",
       "    </tr>\n",
       "    <tr>\n",
       "      <th>3</th>\n",
       "      <td>26823</td>\n",
       "      <td>2015</td>\n",
       "      <td>95276.14</td>\n",
       "      <td>0</td>\n",
       "      <td>8</td>\n",
       "      <td>43167.434112</td>\n",
       "    </tr>\n",
       "    <tr>\n",
       "      <th>4</th>\n",
       "      <td>7935</td>\n",
       "      <td>2014</td>\n",
       "      <td>117384.68</td>\n",
       "      <td>1</td>\n",
       "      <td>9</td>\n",
       "      <td>12770.144640</td>\n",
       "    </tr>\n",
       "  </tbody>\n",
       "</table>\n",
       "</div>"
      ],
      "text/plain": [
       "   mileage_per_year  model_year      price  sold  age   km_per_year\n",
       "0             21801        2000   30941.02     1   23  35085.308544\n",
       "1              7843        1998   40557.96     1   25  12622.084992\n",
       "2              7109        2006   89627.50     0   17  11440.826496\n",
       "3             26823        2015   95276.14     0    8  43167.434112\n",
       "4              7935        2014  117384.68     1    9  12770.144640"
      ]
     },
     "execution_count": 5,
     "metadata": {},
     "output_type": "execute_result"
    }
   ],
   "source": [
    "df['km_per_year'] = df.mileage_per_year * 1.609344\n",
    "df.head()"
   ]
  },
  {
   "cell_type": "code",
   "execution_count": 6,
   "id": "e91bbd03",
   "metadata": {},
   "outputs": [
    {
     "data": {
      "text/html": [
       "<div>\n",
       "<style scoped>\n",
       "    .dataframe tbody tr th:only-of-type {\n",
       "        vertical-align: middle;\n",
       "    }\n",
       "\n",
       "    .dataframe tbody tr th {\n",
       "        vertical-align: top;\n",
       "    }\n",
       "\n",
       "    .dataframe thead th {\n",
       "        text-align: right;\n",
       "    }\n",
       "</style>\n",
       "<table border=\"1\" class=\"dataframe\">\n",
       "  <thead>\n",
       "    <tr style=\"text-align: right;\">\n",
       "      <th></th>\n",
       "      <th>price</th>\n",
       "      <th>sold</th>\n",
       "      <th>age</th>\n",
       "      <th>km_per_year</th>\n",
       "    </tr>\n",
       "  </thead>\n",
       "  <tbody>\n",
       "    <tr>\n",
       "      <th>0</th>\n",
       "      <td>30941.02</td>\n",
       "      <td>1</td>\n",
       "      <td>23</td>\n",
       "      <td>35085.308544</td>\n",
       "    </tr>\n",
       "    <tr>\n",
       "      <th>1</th>\n",
       "      <td>40557.96</td>\n",
       "      <td>1</td>\n",
       "      <td>25</td>\n",
       "      <td>12622.084992</td>\n",
       "    </tr>\n",
       "    <tr>\n",
       "      <th>2</th>\n",
       "      <td>89627.50</td>\n",
       "      <td>0</td>\n",
       "      <td>17</td>\n",
       "      <td>11440.826496</td>\n",
       "    </tr>\n",
       "    <tr>\n",
       "      <th>3</th>\n",
       "      <td>95276.14</td>\n",
       "      <td>0</td>\n",
       "      <td>8</td>\n",
       "      <td>43167.434112</td>\n",
       "    </tr>\n",
       "    <tr>\n",
       "      <th>4</th>\n",
       "      <td>117384.68</td>\n",
       "      <td>1</td>\n",
       "      <td>9</td>\n",
       "      <td>12770.144640</td>\n",
       "    </tr>\n",
       "  </tbody>\n",
       "</table>\n",
       "</div>"
      ],
      "text/plain": [
       "       price  sold  age   km_per_year\n",
       "0   30941.02     1   23  35085.308544\n",
       "1   40557.96     1   25  12622.084992\n",
       "2   89627.50     0   17  11440.826496\n",
       "3   95276.14     0    8  43167.434112\n",
       "4  117384.68     1    9  12770.144640"
      ]
     },
     "execution_count": 6,
     "metadata": {},
     "output_type": "execute_result"
    }
   ],
   "source": [
    "df = df.drop(columns=['mileage_per_year', 'model_year'], axis=1)\n",
    "df.head()"
   ]
  },
  {
   "cell_type": "code",
   "execution_count": 7,
   "id": "3cd2f852",
   "metadata": {},
   "outputs": [
    {
     "name": "stdout",
     "output_type": "stream",
     "text": [
      "Treinando com 7500 amostras e testando com 2500 amostras\n",
      "A acurácia foi de 46.88%\n"
     ]
    },
    {
     "name": "stderr",
     "output_type": "stream",
     "text": [
      "C:\\Users\\paulo\\anaconda3\\Lib\\site-packages\\sklearn\\svm\\_base.py:1242: ConvergenceWarning: Liblinear failed to converge, increase the number of iterations.\n",
      "  warnings.warn(\n"
     ]
    }
   ],
   "source": [
    "from sklearn.model_selection import train_test_split\n",
    "from sklearn.svm import LinearSVC\n",
    "from sklearn.metrics import accuracy_score\n",
    "from sklearn.preprocessing import StandardScaler\n",
    "import numpy as np\n",
    "\n",
    "X = df[['price', 'age', 'km_per_year']]\n",
    "y = df['sold']\n",
    "\n",
    "# Escala as características\n",
    "# scaler = StandardScaler()\n",
    "# X_scaled = scaler.fit_transform(X)\n",
    "X_scaled=X\n",
    "\n",
    "SEED = 5\n",
    "np.random.seed(SEED)\n",
    "\n",
    "X_train, X_test, y_train, y_test = train_test_split(X_scaled, y, test_size=0.25, stratify=y)\n",
    "print(f'Treinando com {len(X_train)} amostras e testando com {len(X_test)} amostras')\n",
    "\n",
    "# Aumenta o número de iterações\n",
    "model = LinearSVC(dual=True)\n",
    "model.fit(X_train, y_train)\n",
    "previsoes = model.predict(X_test)\n",
    "\n",
    "acuracia = accuracy_score(y_test, previsoes)\n",
    "print(f'A acurácia foi de {acuracia * 100:.2f}%')"
   ]
  },
  {
   "cell_type": "markdown",
   "id": "cac03ff6",
   "metadata": {},
   "source": [
    "### Usando o DummyClassifier"
   ]
  },
  {
   "cell_type": "code",
   "execution_count": 8,
   "id": "d7ab5ae8",
   "metadata": {},
   "outputs": [],
   "source": [
    "from sklearn.dummy import DummyClassifier"
   ]
  },
  {
   "cell_type": "code",
   "execution_count": 9,
   "id": "d3291912",
   "metadata": {},
   "outputs": [
    {
     "name": "stdout",
     "output_type": "stream",
     "text": [
      "A acurácia do dummy stratified foi de 52.44%\n"
     ]
    }
   ],
   "source": [
    "dummy_stratified = DummyClassifier(strategy='stratified')\n",
    "dummy_stratified.fit(X_train, y_train)\n",
    "acuracia = dummy_stratified.score(X_test, y_test)\n",
    "\n",
    "print(f'A acurácia do dummy stratified foi de {acuracia * 100:.2f}%')"
   ]
  },
  {
   "cell_type": "code",
   "execution_count": 10,
   "id": "780f9c3c",
   "metadata": {},
   "outputs": [
    {
     "name": "stdout",
     "output_type": "stream",
     "text": [
      "A acurácia do dummy mostfrequent foi de 58.00%\n"
     ]
    }
   ],
   "source": [
    "dummy_mostfrequent = DummyClassifier(strategy='most_frequent')\n",
    "dummy_mostfrequent.fit(X_train, y_train)\n",
    "acuracia = dummy_mostfrequent.score(X_test, y_test)\n",
    "\n",
    "print(f'A acurácia do dummy mostfrequent foi de {acuracia * 100:.2f}%')"
   ]
  },
  {
   "cell_type": "markdown",
   "id": "51c6865e",
   "metadata": {},
   "source": [
    "### Usando o SVC"
   ]
  },
  {
   "cell_type": "code",
   "execution_count": 11,
   "id": "28049d13",
   "metadata": {},
   "outputs": [
    {
     "name": "stdout",
     "output_type": "stream",
     "text": [
      "Treinando com 7500 amostras e testando com 2500 amostras\n",
      "A acurácia foi de 77.52%\n"
     ]
    }
   ],
   "source": [
    "from sklearn.model_selection import train_test_split\n",
    "from sklearn.svm import SVC\n",
    "from sklearn.metrics import accuracy_score\n",
    "from sklearn.preprocessing import StandardScaler\n",
    "import numpy as np\n",
    "\n",
    "X = df[['price', 'age', 'km_per_year']]\n",
    "y = df['sold']\n",
    "\n",
    "# Escala as características\n",
    "scaler = StandardScaler()\n",
    "X_scaled = scaler.fit_transform(X)\n",
    "\n",
    "SEED = 5\n",
    "np.random.seed(SEED)\n",
    "\n",
    "X_train, X_test, y_train, y_test = train_test_split(X_scaled, y, test_size=0.25, stratify=y)\n",
    "print(f'Treinando com {len(X_train)} amostras e testando com {len(X_test)} amostras')\n",
    "\n",
    "# Aumenta o número de iterações\n",
    "model = SVC()\n",
    "model.fit(X_train, y_train)\n",
    "previsoes = model.predict(X_test)\n",
    "\n",
    "acuracia = accuracy_score(y_test, previsoes)\n",
    "print(f'A acurácia foi de {acuracia * 100:.2f}%')"
   ]
  },
  {
   "cell_type": "markdown",
   "id": "ff96bb8b",
   "metadata": {},
   "source": [
    "## Usando o DecisionTreeClassifier"
   ]
  },
  {
   "cell_type": "code",
   "execution_count": 12,
   "id": "c26ff7d9",
   "metadata": {},
   "outputs": [
    {
     "name": "stdout",
     "output_type": "stream",
     "text": [
      "Treinando com 7500 amostras e testando com 2500 amostras\n",
      "A acurácia foi de 73.32%\n"
     ]
    }
   ],
   "source": [
    "from sklearn.model_selection import train_test_split\n",
    "from sklearn.tree import DecisionTreeClassifier\n",
    "from sklearn.metrics import accuracy_score\n",
    "from sklearn.preprocessing import StandardScaler\n",
    "import numpy as np\n",
    "\n",
    "X = df[['price', 'age', 'km_per_year']]\n",
    "y = df['sold']\n",
    "\n",
    "# Escala as características\n",
    "scaler = StandardScaler()\n",
    "X_scaled = scaler.fit_transform(X)\n",
    "\n",
    "SEED = 5\n",
    "np.random.seed(SEED)\n",
    "\n",
    "X_train, X_test, y_train, y_test = train_test_split(X_scaled, y, test_size=0.25, stratify=y)\n",
    "print(f'Treinando com {len(X_train)} amostras e testando com {len(X_test)} amostras')\n",
    "\n",
    "# Aumenta o número de iterações\n",
    "model = DecisionTreeClassifier()\n",
    "model.fit(X_train, y_train)\n",
    "previsoes = model.predict(X_test)\n",
    "\n",
    "acuracia = accuracy_score(y_test, previsoes)\n",
    "print(f'A acurácia foi de {acuracia * 100:.2f}%')"
   ]
  },
  {
   "cell_type": "code",
   "execution_count": null,
   "id": "d00d85b9",
   "metadata": {},
   "outputs": [],
   "source": []
  }
 ],
 "metadata": {
  "kernelspec": {
   "display_name": "Python 3 (ipykernel)",
   "language": "python",
   "name": "python3"
  },
  "language_info": {
   "codemirror_mode": {
    "name": "ipython",
    "version": 3
   },
   "file_extension": ".py",
   "mimetype": "text/x-python",
   "name": "python",
   "nbconvert_exporter": "python",
   "pygments_lexer": "ipython3",
   "version": "3.11.4"
  }
 },
 "nbformat": 4,
 "nbformat_minor": 5
}
