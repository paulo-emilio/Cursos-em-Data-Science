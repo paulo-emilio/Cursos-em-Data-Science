{
 "cells": [
  {
   "cell_type": "code",
   "execution_count": 1,
   "id": "9bf3fd91",
   "metadata": {},
   "outputs": [],
   "source": [
    "import pandas as pd"
   ]
  },
  {
   "cell_type": "code",
   "execution_count": 2,
   "id": "718b5be1",
   "metadata": {},
   "outputs": [
    {
     "data": {
      "text/html": [
       "<div>\n",
       "<style scoped>\n",
       "    .dataframe tbody tr th:only-of-type {\n",
       "        vertical-align: middle;\n",
       "    }\n",
       "\n",
       "    .dataframe tbody tr th {\n",
       "        vertical-align: top;\n",
       "    }\n",
       "\n",
       "    .dataframe thead th {\n",
       "        text-align: right;\n",
       "    }\n",
       "</style>\n",
       "<table border=\"1\" class=\"dataframe\">\n",
       "  <thead>\n",
       "    <tr style=\"text-align: right;\">\n",
       "      <th></th>\n",
       "      <th>CUST_ID</th>\n",
       "      <th>BALANCE</th>\n",
       "      <th>BALANCE_FREQUENCY</th>\n",
       "      <th>PURCHASES</th>\n",
       "      <th>ONEOFF_PURCHASES</th>\n",
       "      <th>INSTALLMENTS_PURCHASES</th>\n",
       "      <th>CASH_ADVANCE</th>\n",
       "      <th>PURCHASES_FREQUENCY</th>\n",
       "      <th>ONEOFF_PURCHASES_FREQUENCY</th>\n",
       "      <th>PURCHASES_INSTALLMENTS_FREQUENCY</th>\n",
       "      <th>CASH_ADVANCE_FREQUENCY</th>\n",
       "      <th>CASH_ADVANCE_TRX</th>\n",
       "      <th>PURCHASES_TRX</th>\n",
       "      <th>CREDIT_LIMIT</th>\n",
       "      <th>PAYMENTS</th>\n",
       "      <th>MINIMUM_PAYMENTS</th>\n",
       "      <th>PRC_FULL_PAYMENT</th>\n",
       "      <th>TENURE</th>\n",
       "    </tr>\n",
       "  </thead>\n",
       "  <tbody>\n",
       "    <tr>\n",
       "      <th>0</th>\n",
       "      <td>C10001</td>\n",
       "      <td>40.900749</td>\n",
       "      <td>0.818182</td>\n",
       "      <td>95.4</td>\n",
       "      <td>0.0</td>\n",
       "      <td>95.4</td>\n",
       "      <td>0.000000</td>\n",
       "      <td>0.166667</td>\n",
       "      <td>0.0</td>\n",
       "      <td>0.083333</td>\n",
       "      <td>0.00</td>\n",
       "      <td>0</td>\n",
       "      <td>2</td>\n",
       "      <td>1000.0</td>\n",
       "      <td>201.802084</td>\n",
       "      <td>139.509787</td>\n",
       "      <td>0.000000</td>\n",
       "      <td>12</td>\n",
       "    </tr>\n",
       "    <tr>\n",
       "      <th>1</th>\n",
       "      <td>C10002</td>\n",
       "      <td>3202.467416</td>\n",
       "      <td>0.909091</td>\n",
       "      <td>0.0</td>\n",
       "      <td>0.0</td>\n",
       "      <td>0.0</td>\n",
       "      <td>6442.945483</td>\n",
       "      <td>0.000000</td>\n",
       "      <td>0.0</td>\n",
       "      <td>0.000000</td>\n",
       "      <td>0.25</td>\n",
       "      <td>4</td>\n",
       "      <td>0</td>\n",
       "      <td>7000.0</td>\n",
       "      <td>4103.032597</td>\n",
       "      <td>1072.340217</td>\n",
       "      <td>0.222222</td>\n",
       "      <td>12</td>\n",
       "    </tr>\n",
       "  </tbody>\n",
       "</table>\n",
       "</div>"
      ],
      "text/plain": [
       "  CUST_ID      BALANCE  BALANCE_FREQUENCY  PURCHASES  ONEOFF_PURCHASES  \\\n",
       "0  C10001    40.900749           0.818182       95.4               0.0   \n",
       "1  C10002  3202.467416           0.909091        0.0               0.0   \n",
       "\n",
       "   INSTALLMENTS_PURCHASES  CASH_ADVANCE  PURCHASES_FREQUENCY  \\\n",
       "0                    95.4      0.000000             0.166667   \n",
       "1                     0.0   6442.945483             0.000000   \n",
       "\n",
       "   ONEOFF_PURCHASES_FREQUENCY  PURCHASES_INSTALLMENTS_FREQUENCY  \\\n",
       "0                         0.0                          0.083333   \n",
       "1                         0.0                          0.000000   \n",
       "\n",
       "   CASH_ADVANCE_FREQUENCY  CASH_ADVANCE_TRX  PURCHASES_TRX  CREDIT_LIMIT  \\\n",
       "0                    0.00                 0              2        1000.0   \n",
       "1                    0.25                 4              0        7000.0   \n",
       "\n",
       "      PAYMENTS  MINIMUM_PAYMENTS  PRC_FULL_PAYMENT  TENURE  \n",
       "0   201.802084        139.509787          0.000000      12  \n",
       "1  4103.032597       1072.340217          0.222222      12  "
      ]
     },
     "execution_count": 2,
     "metadata": {},
     "output_type": "execute_result"
    }
   ],
   "source": [
    "df = pd.read_csv('dados/CC_GENERAL.csv')\n",
    "df.head(2)"
   ]
  },
  {
   "cell_type": "code",
   "execution_count": 3,
   "id": "c6fd14da",
   "metadata": {},
   "outputs": [
    {
     "data": {
      "text/plain": [
       "(8950, 18)"
      ]
     },
     "execution_count": 3,
     "metadata": {},
     "output_type": "execute_result"
    }
   ],
   "source": [
    "df.shape"
   ]
  },
  {
   "cell_type": "markdown",
   "id": "df28b708",
   "metadata": {},
   "source": [
    "### Tratando dados"
   ]
  },
  {
   "cell_type": "code",
   "execution_count": 4,
   "id": "00b41b52",
   "metadata": {},
   "outputs": [
    {
     "data": {
      "text/html": [
       "<div>\n",
       "<style scoped>\n",
       "    .dataframe tbody tr th:only-of-type {\n",
       "        vertical-align: middle;\n",
       "    }\n",
       "\n",
       "    .dataframe tbody tr th {\n",
       "        vertical-align: top;\n",
       "    }\n",
       "\n",
       "    .dataframe thead th {\n",
       "        text-align: right;\n",
       "    }\n",
       "</style>\n",
       "<table border=\"1\" class=\"dataframe\">\n",
       "  <thead>\n",
       "    <tr style=\"text-align: right;\">\n",
       "      <th></th>\n",
       "      <th>BALANCE</th>\n",
       "      <th>BALANCE_FREQUENCY</th>\n",
       "      <th>PURCHASES</th>\n",
       "      <th>ONEOFF_PURCHASES</th>\n",
       "      <th>INSTALLMENTS_PURCHASES</th>\n",
       "      <th>CASH_ADVANCE</th>\n",
       "      <th>PURCHASES_FREQUENCY</th>\n",
       "      <th>ONEOFF_PURCHASES_FREQUENCY</th>\n",
       "      <th>PURCHASES_INSTALLMENTS_FREQUENCY</th>\n",
       "      <th>CASH_ADVANCE_FREQUENCY</th>\n",
       "      <th>CASH_ADVANCE_TRX</th>\n",
       "      <th>PURCHASES_TRX</th>\n",
       "      <th>CREDIT_LIMIT</th>\n",
       "      <th>PAYMENTS</th>\n",
       "      <th>MINIMUM_PAYMENTS</th>\n",
       "      <th>PRC_FULL_PAYMENT</th>\n",
       "    </tr>\n",
       "  </thead>\n",
       "  <tbody>\n",
       "    <tr>\n",
       "      <th>0</th>\n",
       "      <td>40.900749</td>\n",
       "      <td>0.818182</td>\n",
       "      <td>95.4</td>\n",
       "      <td>0.0</td>\n",
       "      <td>95.4</td>\n",
       "      <td>0.000000</td>\n",
       "      <td>0.166667</td>\n",
       "      <td>0.0</td>\n",
       "      <td>0.083333</td>\n",
       "      <td>0.00</td>\n",
       "      <td>0</td>\n",
       "      <td>2</td>\n",
       "      <td>1000.0</td>\n",
       "      <td>201.802084</td>\n",
       "      <td>139.509787</td>\n",
       "      <td>0.000000</td>\n",
       "    </tr>\n",
       "    <tr>\n",
       "      <th>1</th>\n",
       "      <td>3202.467416</td>\n",
       "      <td>0.909091</td>\n",
       "      <td>0.0</td>\n",
       "      <td>0.0</td>\n",
       "      <td>0.0</td>\n",
       "      <td>6442.945483</td>\n",
       "      <td>0.000000</td>\n",
       "      <td>0.0</td>\n",
       "      <td>0.000000</td>\n",
       "      <td>0.25</td>\n",
       "      <td>4</td>\n",
       "      <td>0</td>\n",
       "      <td>7000.0</td>\n",
       "      <td>4103.032597</td>\n",
       "      <td>1072.340217</td>\n",
       "      <td>0.222222</td>\n",
       "    </tr>\n",
       "  </tbody>\n",
       "</table>\n",
       "</div>"
      ],
      "text/plain": [
       "       BALANCE  BALANCE_FREQUENCY  PURCHASES  ONEOFF_PURCHASES  \\\n",
       "0    40.900749           0.818182       95.4               0.0   \n",
       "1  3202.467416           0.909091        0.0               0.0   \n",
       "\n",
       "   INSTALLMENTS_PURCHASES  CASH_ADVANCE  PURCHASES_FREQUENCY  \\\n",
       "0                    95.4      0.000000             0.166667   \n",
       "1                     0.0   6442.945483             0.000000   \n",
       "\n",
       "   ONEOFF_PURCHASES_FREQUENCY  PURCHASES_INSTALLMENTS_FREQUENCY  \\\n",
       "0                         0.0                          0.083333   \n",
       "1                         0.0                          0.000000   \n",
       "\n",
       "   CASH_ADVANCE_FREQUENCY  CASH_ADVANCE_TRX  PURCHASES_TRX  CREDIT_LIMIT  \\\n",
       "0                    0.00                 0              2        1000.0   \n",
       "1                    0.25                 4              0        7000.0   \n",
       "\n",
       "      PAYMENTS  MINIMUM_PAYMENTS  PRC_FULL_PAYMENT  \n",
       "0   201.802084        139.509787          0.000000  \n",
       "1  4103.032597       1072.340217          0.222222  "
      ]
     },
     "execution_count": 4,
     "metadata": {},
     "output_type": "execute_result"
    }
   ],
   "source": [
    "df.drop(columns=['CUST_ID', 'TENURE'], inplace=True)\n",
    "df.head(2)"
   ]
  },
  {
   "cell_type": "code",
   "execution_count": 5,
   "id": "4833de3f",
   "metadata": {
    "scrolled": true
   },
   "outputs": [
    {
     "data": {
      "text/plain": [
       "BALANCE                               0\n",
       "BALANCE_FREQUENCY                     0\n",
       "PURCHASES                             0\n",
       "ONEOFF_PURCHASES                      0\n",
       "INSTALLMENTS_PURCHASES                0\n",
       "CASH_ADVANCE                          0\n",
       "PURCHASES_FREQUENCY                   0\n",
       "ONEOFF_PURCHASES_FREQUENCY            0\n",
       "PURCHASES_INSTALLMENTS_FREQUENCY      0\n",
       "CASH_ADVANCE_FREQUENCY                0\n",
       "CASH_ADVANCE_TRX                      0\n",
       "PURCHASES_TRX                         0\n",
       "CREDIT_LIMIT                          1\n",
       "PAYMENTS                              0\n",
       "MINIMUM_PAYMENTS                    313\n",
       "PRC_FULL_PAYMENT                      0\n",
       "dtype: int64"
      ]
     },
     "execution_count": 5,
     "metadata": {},
     "output_type": "execute_result"
    }
   ],
   "source": [
    "missing = df.isna().sum()\n",
    "missing"
   ]
  },
  {
   "cell_type": "code",
   "execution_count": 6,
   "id": "87fd8275",
   "metadata": {
    "scrolled": true
   },
   "outputs": [
    {
     "data": {
      "text/plain": [
       "BALANCE                             0\n",
       "BALANCE_FREQUENCY                   0\n",
       "PURCHASES                           0\n",
       "ONEOFF_PURCHASES                    0\n",
       "INSTALLMENTS_PURCHASES              0\n",
       "CASH_ADVANCE                        0\n",
       "PURCHASES_FREQUENCY                 0\n",
       "ONEOFF_PURCHASES_FREQUENCY          0\n",
       "PURCHASES_INSTALLMENTS_FREQUENCY    0\n",
       "CASH_ADVANCE_FREQUENCY              0\n",
       "CASH_ADVANCE_TRX                    0\n",
       "PURCHASES_TRX                       0\n",
       "CREDIT_LIMIT                        0\n",
       "PAYMENTS                            0\n",
       "MINIMUM_PAYMENTS                    0\n",
       "PRC_FULL_PAYMENT                    0\n",
       "dtype: int64"
      ]
     },
     "execution_count": 6,
     "metadata": {},
     "output_type": "execute_result"
    }
   ],
   "source": [
    "df.fillna(df.median(), inplace=True)\n",
    "missing = df.isna().sum()\n",
    "missing"
   ]
  },
  {
   "cell_type": "markdown",
   "id": "68f89fb4",
   "metadata": {},
   "source": [
    "### Normalizando dados"
   ]
  },
  {
   "cell_type": "code",
   "execution_count": 7,
   "id": "4f04b870",
   "metadata": {
    "scrolled": true
   },
   "outputs": [
    {
     "data": {
      "text/plain": [
       "array([[3.93555441e-02, 7.87271593e-04, 9.17958473e-02, ...,\n",
       "        1.94178127e-01, 1.34239194e-01, 0.00000000e+00],\n",
       "       [2.93875903e-01, 8.34231560e-05, 0.00000000e+00, ...,\n",
       "        3.76516684e-01, 9.84037959e-02, 2.03923046e-05],\n",
       "       [3.10798149e-01, 1.24560965e-04, 9.63068011e-02, ...,\n",
       "        7.74852335e-02, 7.81351982e-02, 0.00000000e+00],\n",
       "       ...,\n",
       "       [2.27733092e-02, 8.11060955e-04, 1.40540698e-01, ...,\n",
       "        7.90986945e-02, 8.02156174e-02, 2.43318384e-04],\n",
       "       [2.65257948e-02, 1.64255731e-03, 0.00000000e+00, ...,\n",
       "        1.03579625e-01, 1.09898221e-01, 4.92767391e-04],\n",
       "       [1.86406219e-01, 3.33426837e-04, 5.46778061e-01, ...,\n",
       "        3.15915455e-02, 4.41568390e-02, 0.00000000e+00]])"
      ]
     },
     "execution_count": 7,
     "metadata": {},
     "output_type": "execute_result"
    }
   ],
   "source": [
    "from sklearn.preprocessing import Normalizer\n",
    "\n",
    "values = Normalizer().fit_transform(df.values)\n",
    "values"
   ]
  },
  {
   "cell_type": "markdown",
   "id": "2957d695",
   "metadata": {},
   "source": [
    "### Executando o clustering"
   ]
  },
  {
   "cell_type": "code",
   "execution_count": 8,
   "id": "410e83a8",
   "metadata": {},
   "outputs": [],
   "source": [
    "from sklearn.cluster import KMeans\n",
    "\n",
    "# n_clusters: Define o número de clusters que você deseja.\n",
    "# n_init: Define o número de vezes que o algoritmo tentará encontrar um bom conjunto de centroides inicialmente.\n",
    "# max_iter: Define o número máximo de iterações do algoritmo de clusterização.\n",
    "\n",
    "kmeans = KMeans(n_clusters=5, n_init=10, max_iter=300)\n",
    "y_pred = kmeans.fit_predict(values)"
   ]
  },
  {
   "cell_type": "markdown",
   "id": "6c799eb3",
   "metadata": {},
   "source": [
    "##  Critérios de validação"
   ]
  },
  {
   "cell_type": "markdown",
   "id": "9e5ec0a1",
   "metadata": {},
   "source": [
    "### Silhouette (Distância entre Clusters)"
   ]
  },
  {
   "cell_type": "code",
   "execution_count": 9,
   "id": "59a95ae6",
   "metadata": {},
   "outputs": [
    {
     "name": "stdout",
     "output_type": "stream",
     "text": [
      "Silhouette: 0.3645\n"
     ]
    }
   ],
   "source": [
    "from sklearn import metrics\n",
    "\n",
    "labels = kmeans.labels_\n",
    "silhouette = metrics.silhouette_score(values, labels, metric='euclidean')\n",
    "print(f'Silhouette: {silhouette:.4f}')  # média das distâncias entre todos os pontos\n",
    "# -1 à 1, positivo = bom, quanto mais próximo de 1 estiver o valor de silhouette mais separados estão os clusters."
   ]
  },
  {
   "cell_type": "markdown",
   "id": "1e8c60d2",
   "metadata": {},
   "source": [
    "### Índice Davies-Bouldin (Medida de similiaridade entre dois clusters i e j)"
   ]
  },
  {
   "cell_type": "code",
   "execution_count": 10,
   "id": "c2a4c1d6",
   "metadata": {},
   "outputs": [
    {
     "name": "stdout",
     "output_type": "stream",
     "text": [
      "Índice Davies-Bouldin: 1.0759\n"
     ]
    }
   ],
   "source": [
    "dbs = metrics.davies_bouldin_score(values, labels)\n",
    "print(f'Índice Davies-Bouldin: {dbs:.4f}')\n",
    "# Quanto menor o valor do Índice Davies-Bouldin, melhor é a qualidade do agrupamento, \n",
    "# indicando que os clusters são mais distintos e bem definidos.\n",
    "# Quanto mais próximo de 0, melhor."
   ]
  },
  {
   "cell_type": "markdown",
   "id": "d32175aa",
   "metadata": {},
   "source": [
    "### Índice Calinski-Harabasz"
   ]
  },
  {
   "cell_type": "code",
   "execution_count": 11,
   "id": "f7a14531",
   "metadata": {},
   "outputs": [
    {
     "name": "stdout",
     "output_type": "stream",
     "text": [
      "Índice Calinski-Harabasz: 3431.7941\n"
     ]
    }
   ],
   "source": [
    "calinski = metrics.calinski_harabasz_score(values, labels)\n",
    "print(f'Índice Calinski-Harabasz: {calinski:.4f}')\n",
    "# Alto valor do índice de Calinski: Geralmente, um valor mais alto indica uma melhor qualidade de agrupamento, \n",
    "# onde os clusters são distintos e bem separados.\n",
    "# Baixo valor do índice de Calinski: Um valor mais baixo sugere uma menor qualidade de agrupamento, \n",
    "# indicando que os clusters podem não estar tão bem definidos e a dispersão dentro dos clusters pode ser comparativamente alta."
   ]
  },
  {
   "cell_type": "markdown",
   "id": "10ea563b",
   "metadata": {},
   "source": [
    "## Validando os clusters"
   ]
  },
  {
   "cell_type": "markdown",
   "id": "fc32b2e8",
   "metadata": {},
   "source": [
    "* Compararmos o valor das métricas com base em configurações diferentes do nosso algorítimo. \n",
    "* A ideia é que assim ajustemos os parâmetros do algorítimo para obter os melhores resultados."
   ]
  },
  {
   "cell_type": "code",
   "execution_count": 12,
   "id": "711ecb77",
   "metadata": {},
   "outputs": [],
   "source": [
    "def clustering_algorithm(n_clusters, dataset):\n",
    "    kmeans = KMeans(n_clusters=n_clusters, n_init=10, max_iter=300)  # Kmeans\n",
    "    labels = kmeans.fit_predict(dataset)  # labels\n",
    "    s = metrics.silhouette_score(dataset, labels, metric='euclidean')  # Silhouette\n",
    "    dbs = metrics.davies_bouldin_score(dataset, labels)  # Davies-Bouldin\n",
    "    calinski = metrics.calinski_harabasz_score(dataset, labels)  # Calinski\n",
    "    print(f'|{n_clusters}| CLUSTERS:\\nSilhouette: {s:.3f}\\nDavies-Bouldin: {dbs:.3f}\\nCalinski: {calinski:.3f}')\n",
    "    return s, dbs, calinski"
   ]
  },
  {
   "cell_type": "code",
   "execution_count": 13,
   "id": "a2960536",
   "metadata": {
    "scrolled": true
   },
   "outputs": [
    {
     "name": "stdout",
     "output_type": "stream",
     "text": [
      "|2| CLUSTERS:\n",
      "Silhouette: 0.299\n",
      "Davies-Bouldin: 1.518\n",
      "Calinski: 3321.847\n",
      "------------------------------\n",
      "|3| CLUSTERS:\n",
      "Silhouette: 0.327\n",
      "Davies-Bouldin: 1.310\n",
      "Calinski: 3526.441\n",
      "------------------------------\n",
      "|4| CLUSTERS:\n",
      "Silhouette: 0.348\n",
      "Davies-Bouldin: 1.221\n",
      "Calinski: 3528.718\n",
      "------------------------------\n",
      "|5| CLUSTERS:\n",
      "Silhouette: 0.349\n",
      "Davies-Bouldin: 1.153\n",
      "Calinski: 3422.843\n",
      "------------------------------\n",
      "|6| CLUSTERS:\n",
      "Silhouette: 0.365\n",
      "Davies-Bouldin: 1.045\n",
      "Calinski: 3523.497\n",
      "------------------------------\n",
      "|7| CLUSTERS:\n",
      "Silhouette: 0.329\n",
      "Davies-Bouldin: 1.151\n",
      "Calinski: 3398.260\n",
      "------------------------------\n",
      "|8| CLUSTERS:\n",
      "Silhouette: 0.309\n",
      "Davies-Bouldin: 1.175\n",
      "Calinski: 3239.101\n",
      "------------------------------\n",
      "|9| CLUSTERS:\n",
      "Silhouette: 0.301\n",
      "Davies-Bouldin: 1.197\n",
      "Calinski: 3082.615\n",
      "------------------------------\n",
      "|10| CLUSTERS:\n",
      "Silhouette: 0.350\n",
      "Davies-Bouldin: 1.121\n",
      "Calinski: 3018.957\n",
      "------------------------------\n"
     ]
    }
   ],
   "source": [
    "for n in range(2,11):\n",
    "    clustering_algorithm(n, values)\n",
    "    print('-'*30)"
   ]
  },
  {
   "cell_type": "markdown",
   "id": "153bb4ae",
   "metadata": {},
   "source": [
    "### Melhor resultado: \n",
    "    |6| CLUSTERS\n",
    "    Silhouette: 0.365\n",
    "    Davies-Bouldin: 1.045\n",
    "    Calinski: 3523.512\n"
   ]
  },
  {
   "cell_type": "markdown",
   "id": "d37f53fa",
   "metadata": {},
   "source": [
    "### Comparar os valores que obtemos do nosso dataset com outros de um banco de dados aleatório. "
   ]
  },
  {
   "cell_type": "code",
   "execution_count": 14,
   "id": "cf283eeb",
   "metadata": {},
   "outputs": [],
   "source": [
    "# Outra forma de validação é comparar os valores que obtemos do nosso dataset com outros de um banco de dados aleatório. \n",
    "# A ideia é que possamos garantir que nosso conjunto de dados apresente melhores métricas, e por conseguinte, \n",
    "# uma estrutura capaz de ser clusterizada."
   ]
  },
  {
   "cell_type": "code",
   "execution_count": 15,
   "id": "2195ca67",
   "metadata": {},
   "outputs": [
    {
     "data": {
      "text/plain": [
       "(8950, 16)"
      ]
     },
     "execution_count": 15,
     "metadata": {},
     "output_type": "execute_result"
    }
   ],
   "source": [
    "df.shape  # quantidade de dados"
   ]
  },
  {
   "cell_type": "code",
   "execution_count": 16,
   "id": "f67535f0",
   "metadata": {},
   "outputs": [
    {
     "data": {
      "text/plain": [
       "array([[0.91559173, 0.57237394, 0.87560161, ..., 0.24875607, 0.60628921,\n",
       "        0.05045342],\n",
       "       [0.20512195, 0.39026168, 0.74283824, ..., 0.59873247, 0.97174193,\n",
       "        0.73420444],\n",
       "       [0.6515255 , 0.27607923, 0.69798018, ..., 0.68497826, 0.7246193 ,\n",
       "        0.71021827],\n",
       "       ...,\n",
       "       [0.44657826, 0.224918  , 0.29511001, ..., 0.33807207, 0.7536188 ,\n",
       "        0.24283653],\n",
       "       [0.73456569, 0.43900293, 0.80360087, ..., 0.56347387, 0.386089  ,\n",
       "        0.55670899],\n",
       "       [0.20690392, 0.5973852 , 0.50839095, ..., 0.37567192, 0.89840198,\n",
       "        0.92618156]])"
      ]
     },
     "execution_count": 16,
     "metadata": {},
     "output_type": "execute_result"
    }
   ],
   "source": [
    "import numpy as np\n",
    "\n",
    "# criando banco de dados aleatório\n",
    "random_data = np.random.rand(df.shape[0], df.shape[1])\n",
    "random_data"
   ]
  },
  {
   "cell_type": "code",
   "execution_count": 17,
   "id": "011b6a64",
   "metadata": {},
   "outputs": [
    {
     "name": "stdout",
     "output_type": "stream",
     "text": [
      "|6| CLUSTERS:\n",
      "Silhouette: 0.040\n",
      "Davies-Bouldin: 3.309\n",
      "Calinski: 279.240\n"
     ]
    },
    {
     "data": {
      "text/plain": [
       "(0.039869609963263754, 3.308710696740467, 279.2401373599604)"
      ]
     },
     "execution_count": 17,
     "metadata": {},
     "output_type": "execute_result"
    }
   ],
   "source": [
    "clustering_algorithm(6, random_data)"
   ]
  },
  {
   "cell_type": "code",
   "execution_count": 18,
   "id": "31efd23c",
   "metadata": {},
   "outputs": [
    {
     "name": "stdout",
     "output_type": "stream",
     "text": [
      "|6| CLUSTERS:\n",
      "Silhouette: 0.365\n",
      "Davies-Bouldin: 1.045\n",
      "Calinski: 3523.513\n"
     ]
    },
    {
     "data": {
      "text/plain": [
       "(0.3648636628819813, 1.0450926521417063, 3523.512534900494)"
      ]
     },
     "execution_count": 18,
     "metadata": {},
     "output_type": "execute_result"
    }
   ],
   "source": [
    "clustering_algorithm(6, values)"
   ]
  },
  {
   "cell_type": "markdown",
   "id": "465a33b4",
   "metadata": {},
   "source": [
    "### Validar a estabilidade do cluster. \n",
    "A ideia é que dividamos a base de dados e executemos o kmeans para cada uma dessas divisões a fim de obtermos resultados similares para as métricas, pois queremos que o kmeans se comporte similarmente em cada uma para conseguirmos a validação."
   ]
  },
  {
   "cell_type": "code",
   "execution_count": 19,
   "id": "138a0d04",
   "metadata": {},
   "outputs": [
    {
     "name": "stdout",
     "output_type": "stream",
     "text": [
      "set1:\n",
      "|6| CLUSTERS:\n",
      "Silhouette: 0.364\n",
      "Davies-Bouldin: 1.025\n",
      "Calinski: 1192.301\n",
      "------------\n",
      "set2:\n",
      "|6| CLUSTERS:\n",
      "Silhouette: 0.365\n",
      "Davies-Bouldin: 1.059\n",
      "Calinski: 1169.444\n",
      "------------\n",
      "set3:\n",
      "|6| CLUSTERS:\n",
      "Silhouette: 0.372\n",
      "Davies-Bouldin: 1.042\n",
      "Calinski: 1184.795\n"
     ]
    }
   ],
   "source": [
    "set1, set2, set3 = np.array_split(values, 3)\n",
    "print('set1:')\n",
    "clustering_algorithm(6, set1)\n",
    "print('------------\\nset2:', )\n",
    "clustering_algorithm(6, set2)\n",
    "print('------------\\nset3:', )\n",
    "clustering_algorithm(6, set3);"
   ]
  },
  {
   "cell_type": "markdown",
   "id": "615717e8",
   "metadata": {},
   "source": [
    "***\n",
    "## Visualizando os clusters"
   ]
  },
  {
   "cell_type": "code",
   "execution_count": 20,
   "id": "20a39e3e",
   "metadata": {},
   "outputs": [
    {
     "data": {
      "image/png": "[encoded data removed]",
      "text/plain": [
       "<Figure size 640x480 with 1 Axes>"
      ]
     },
     "metadata": {},
     "output_type": "display_data"
    }
   ],
   "source": [
    "import matplotlib.pyplot as plt\n",
    "\n",
    "plt.scatter(df['PURCHASES'], df['PAYMENTS'], c=labels, s=6, cmap='rainbow')\n",
    "plt.xlabel('Valor total pago')\n",
    "plt.ylabel('Valor total gasto')\n",
    "plt.show()"
   ]
  },
  {
   "cell_type": "code",
   "execution_count": 21,
   "id": "f34685a5",
   "metadata": {},
   "outputs": [],
   "source": [
    "import seaborn as sns\n",
    "\n",
    "df['cluster'] = labels\n",
    "# sns.pairplot(df[:], hue='cluster')\n",
    "# mais de 200 gráficos, não consigo analisar"
   ]
  },
  {
   "cell_type": "markdown",
   "id": "fca8dcb8",
   "metadata": {},
   "source": [
    "### Analisando os valores\n",
    "    Descobrindo a variância dos centroides para cada um dos atributos.\n",
    "    O que tiver maior variância são os melhores, que vamos selecionar."
   ]
  },
  {
   "cell_type": "code",
   "execution_count": 22,
   "id": "9f989bae",
   "metadata": {
    "scrolled": true
   },
   "outputs": [
    {
     "data": {
      "text/plain": [
       "array([[6.90890221e-02, 2.30787435e-04, 1.21507361e-01, 4.79670320e-02,\n",
       "        7.36405575e-02, 2.43310654e-02, 1.72863102e-04, 3.36686718e-05,\n",
       "        1.40328311e-04, 7.92341768e-06, 1.23962309e-04, 2.86381277e-03,\n",
       "        9.43564102e-01, 1.53799817e-01, 5.68529799e-02, 7.61493366e-05],\n",
       "       [5.04263792e-01, 2.72194282e-04, 6.17808431e-02, 3.62269020e-02,\n",
       "        2.55756543e-02, 2.52903017e-01, 6.73170559e-05, 2.56975193e-05,\n",
       "        4.50651626e-05, 5.74388410e-05, 1.15687334e-03, 1.33194105e-03,\n",
       "        7.19174706e-01, 1.66205262e-01, 1.79245673e-01, 5.52303554e-07],\n",
       "       [3.32972556e-01, 2.68240066e-04, 1.58923673e-01, 3.62178588e-02,\n",
       "        1.23089552e-01, 5.82140753e-02, 1.66817881e-04, 2.64295391e-05,\n",
       "        1.47135264e-04, 1.92748591e-05, 4.26896159e-04, 3.86195702e-03,\n",
       "        3.76646957e-01, 2.52402941e-01, 6.79571553e-01, 4.22964707e-06],\n",
       "       [2.35130689e-01, 2.16418717e-04, 6.04525670e-02, 3.44569238e-02,\n",
       "        2.60008529e-02, 3.99755165e-01, 5.26563547e-05, 2.05235176e-05,\n",
       "        3.52245850e-05, 6.54254245e-05, 1.57052528e-03, 1.12425758e-03,\n",
       "        5.35275552e-01, 5.98057989e-01, 1.04294158e-01, 2.77348362e-05],\n",
       "       [1.59872633e-01, 2.45335780e-04, 4.38628565e-01, 2.57276648e-01,\n",
       "        1.81523763e-01, 2.58896564e-02, 2.04405504e-04, 8.91003532e-05,\n",
       "        1.50573918e-04, 9.39953463e-06, 1.70012472e-04, 6.17608469e-03,\n",
       "        6.03886132e-01, 4.02529446e-01, 8.52570022e-02, 7.19925505e-05]])"
      ]
     },
     "execution_count": 22,
     "metadata": {},
     "output_type": "execute_result"
    }
   ],
   "source": [
    "centroids = kmeans.cluster_centers_\n",
    "centroids"
   ]
  },
  {
   "cell_type": "code",
   "execution_count": 23,
   "id": "c582aa7c",
   "metadata": {
    "scrolled": true
   },
   "outputs": [
    {
     "name": "stdout",
     "output_type": "stream",
     "text": [
      "BALANCE: 0.0224\n",
      "----------------------------------------\n",
      "BALANCE_FREQUENCY: 0.0\n",
      "----------------------------------------\n",
      "PURCHASES: 0.0197\n",
      "----------------------------------------\n",
      "ONEOFF_PURCHASES: 0.0077\n",
      "----------------------------------------\n",
      "INSTALLMENTS_PURCHASES: 0.0036\n",
      "----------------------------------------\n",
      "CASH_ADVANCE: 0.0225\n",
      "----------------------------------------\n",
      "PURCHASES_FREQUENCY: 0.0\n",
      "----------------------------------------\n",
      "ONEOFF_PURCHASES_FREQUENCY: 0.0\n",
      "----------------------------------------\n",
      "PURCHASES_INSTALLMENTS_FREQUENCY: 0.0\n",
      "----------------------------------------\n",
      "CASH_ADVANCE_FREQUENCY: 0.0\n",
      "----------------------------------------\n",
      "CASH_ADVANCE_TRX: 0.0\n",
      "----------------------------------------\n",
      "PURCHASES_TRX: 0.0\n",
      "----------------------------------------\n",
      "CREDIT_LIMIT: 0.036\n",
      "----------------------------------------\n",
      "PAYMENTS: 0.028\n",
      "----------------------------------------\n",
      "MINIMUM_PAYMENTS: 0.0542\n",
      "----------------------------------------\n",
      "PRC_FULL_PAYMENT: 0.0\n",
      "----------------------------------------\n"
     ]
    }
   ],
   "source": [
    "# variância dos centroides para cada um dos atributos\n",
    "len_centroids = len(centroids[0])\n",
    "dict_variancias = {df.columns[i]: centroids[:, i].var().round(4) for i in range(len_centroids)}\n",
    "\n",
    "for key, value in dict_variancias.items():\n",
    "    print(f'{key}: {value}')\n",
    "    print('-'*40)"
   ]
  },
  {
   "cell_type": "code",
   "execution_count": 24,
   "id": "6fe02dde",
   "metadata": {
    "scrolled": true
   },
   "outputs": [
    {
     "name": "stdout",
     "output_type": "stream",
     "text": [
      "BALANCE: 0.0224\n",
      "PURCHASES: 0.0197\n",
      "CASH_ADVANCE: 0.0225\n",
      "CREDIT_LIMIT: 0.036\n",
      "PAYMENTS: 0.028\n",
      "MINIMUM_PAYMENTS: 0.0542\n"
     ]
    }
   ],
   "source": [
    "# maiores variâncias (>= 0.01)\n",
    "maiores_variancias = {}\n",
    "for key, value in dict_variancias.items():\n",
    "    if value > 0.009:\n",
    "        maiores_variancias[key] = value\n",
    "        \n",
    "for key, value in maiores_variancias.items():\n",
    "    print(f'{key}: {value}')"
   ]
  },
  {
   "cell_type": "markdown",
   "id": "15285df0",
   "metadata": {},
   "source": [
    "***\n",
    "### Filtrando os valores"
   ]
  },
  {
   "cell_type": "code",
   "execution_count": 52,
   "id": "62ada3d5",
   "metadata": {},
   "outputs": [
    {
     "data": {
      "text/html": [
       "<div>\n",
       "<style scoped>\n",
       "    .dataframe tbody tr th:only-of-type {\n",
       "        vertical-align: middle;\n",
       "    }\n",
       "\n",
       "    .dataframe tbody tr th {\n",
       "        vertical-align: top;\n",
       "    }\n",
       "\n",
       "    .dataframe thead th {\n",
       "        text-align: right;\n",
       "    }\n",
       "</style>\n",
       "<table border=\"1\" class=\"dataframe\">\n",
       "  <thead>\n",
       "    <tr style=\"text-align: right;\">\n",
       "      <th></th>\n",
       "      <th>BALANCE</th>\n",
       "      <th>PURCHASES</th>\n",
       "      <th>CASH_ADVANCE</th>\n",
       "      <th>CREDIT_LIMIT</th>\n",
       "      <th>PAYMENTS</th>\n",
       "      <th>cluster</th>\n",
       "    </tr>\n",
       "  </thead>\n",
       "  <tbody>\n",
       "    <tr>\n",
       "      <th>0</th>\n",
       "      <td>40.900749</td>\n",
       "      <td>95.40</td>\n",
       "      <td>0.000000</td>\n",
       "      <td>1000.0</td>\n",
       "      <td>201.802084</td>\n",
       "      <td>0</td>\n",
       "    </tr>\n",
       "    <tr>\n",
       "      <th>1</th>\n",
       "      <td>3202.467416</td>\n",
       "      <td>0.00</td>\n",
       "      <td>6442.945483</td>\n",
       "      <td>7000.0</td>\n",
       "      <td>4103.032597</td>\n",
       "      <td>3</td>\n",
       "    </tr>\n",
       "    <tr>\n",
       "      <th>2</th>\n",
       "      <td>2495.148862</td>\n",
       "      <td>773.17</td>\n",
       "      <td>0.000000</td>\n",
       "      <td>7500.0</td>\n",
       "      <td>622.066742</td>\n",
       "      <td>0</td>\n",
       "    </tr>\n",
       "    <tr>\n",
       "      <th>3</th>\n",
       "      <td>1666.670542</td>\n",
       "      <td>1499.00</td>\n",
       "      <td>205.788017</td>\n",
       "      <td>7500.0</td>\n",
       "      <td>0.000000</td>\n",
       "      <td>0</td>\n",
       "    </tr>\n",
       "    <tr>\n",
       "      <th>4</th>\n",
       "      <td>817.714335</td>\n",
       "      <td>16.00</td>\n",
       "      <td>0.000000</td>\n",
       "      <td>1200.0</td>\n",
       "      <td>678.334763</td>\n",
       "      <td>1</td>\n",
       "    </tr>\n",
       "  </tbody>\n",
       "</table>\n",
       "</div>"
      ],
      "text/plain": [
       "       BALANCE  PURCHASES  CASH_ADVANCE  CREDIT_LIMIT     PAYMENTS  cluster\n",
       "0    40.900749      95.40      0.000000        1000.0   201.802084        0\n",
       "1  3202.467416       0.00   6442.945483        7000.0  4103.032597        3\n",
       "2  2495.148862     773.17      0.000000        7500.0   622.066742        0\n",
       "3  1666.670542    1499.00    205.788017        7500.0     0.000000        0\n",
       "4   817.714335      16.00      0.000000        1200.0   678.334763        1"
      ]
     },
     "execution_count": 52,
     "metadata": {},
     "output_type": "execute_result"
    }
   ],
   "source": [
    "lista_maiores_var = list(maiores_variancias.keys())\n",
    "lista_maiores_var.append('cluster') # add cluster\n",
    "lista_maiores_var.remove('MINIMUM_PAYMENTS') # removendo pq a professora não utilizou\n",
    "df_filtrado = df[lista_maiores_var]\n",
    "df_filtrado.head()"
   ]
  },
  {
   "cell_type": "code",
   "execution_count": 53,
   "id": "741339d6",
   "metadata": {},
   "outputs": [
    {
     "data": {
      "text/html": [
       "<div>\n",
       "<style scoped>\n",
       "    .dataframe tbody tr th:only-of-type {\n",
       "        vertical-align: middle;\n",
       "    }\n",
       "\n",
       "    .dataframe tbody tr th {\n",
       "        vertical-align: top;\n",
       "    }\n",
       "\n",
       "    .dataframe thead th {\n",
       "        text-align: right;\n",
       "    }\n",
       "</style>\n",
       "<table border=\"1\" class=\"dataframe\">\n",
       "  <thead>\n",
       "    <tr style=\"text-align: right;\">\n",
       "      <th></th>\n",
       "      <th>BALANCE</th>\n",
       "      <th>PURCHASES</th>\n",
       "      <th>CASH_ADVANCE</th>\n",
       "      <th>CREDIT_LIMIT</th>\n",
       "      <th>PAYMENTS</th>\n",
       "      <th>n_clients</th>\n",
       "    </tr>\n",
       "    <tr>\n",
       "      <th>cluster</th>\n",
       "      <th></th>\n",
       "      <th></th>\n",
       "      <th></th>\n",
       "      <th></th>\n",
       "      <th></th>\n",
       "      <th></th>\n",
       "    </tr>\n",
       "  </thead>\n",
       "  <tbody>\n",
       "    <tr>\n",
       "      <th>0</th>\n",
       "      <td>443.746756</td>\n",
       "      <td>629.249107</td>\n",
       "      <td>141.482978</td>\n",
       "      <td>5130.547795</td>\n",
       "      <td>814.294226</td>\n",
       "      <td>3280</td>\n",
       "    </tr>\n",
       "    <tr>\n",
       "      <th>1</th>\n",
       "      <td>3037.962543</td>\n",
       "      <td>385.248630</td>\n",
       "      <td>1636.917210</td>\n",
       "      <td>4495.771989</td>\n",
       "      <td>968.890376</td>\n",
       "      <td>2649</td>\n",
       "    </tr>\n",
       "    <tr>\n",
       "      <th>2</th>\n",
       "      <td>1987.146873</td>\n",
       "      <td>858.326286</td>\n",
       "      <td>420.107194</td>\n",
       "      <td>2226.699029</td>\n",
       "      <td>1338.974045</td>\n",
       "      <td>412</td>\n",
       "    </tr>\n",
       "    <tr>\n",
       "      <th>3</th>\n",
       "      <td>1795.328292</td>\n",
       "      <td>476.810531</td>\n",
       "      <td>3267.199032</td>\n",
       "      <td>3982.452201</td>\n",
       "      <td>4713.384730</td>\n",
       "      <td>1073</td>\n",
       "    </tr>\n",
       "    <tr>\n",
       "      <th>4</th>\n",
       "      <td>1141.865757</td>\n",
       "      <td>3274.071901</td>\n",
       "      <td>183.496011</td>\n",
       "      <td>4098.802182</td>\n",
       "      <td>3037.137165</td>\n",
       "      <td>1536</td>\n",
       "    </tr>\n",
       "  </tbody>\n",
       "</table>\n",
       "</div>"
      ],
      "text/plain": [
       "             BALANCE    PURCHASES  CASH_ADVANCE  CREDIT_LIMIT     PAYMENTS  \\\n",
       "cluster                                                                      \n",
       "0         443.746756   629.249107    141.482978   5130.547795   814.294226   \n",
       "1        3037.962543   385.248630   1636.917210   4495.771989   968.890376   \n",
       "2        1987.146873   858.326286    420.107194   2226.699029  1338.974045   \n",
       "3        1795.328292   476.810531   3267.199032   3982.452201  4713.384730   \n",
       "4        1141.865757  3274.071901    183.496011   4098.802182  3037.137165   \n",
       "\n",
       "         n_clients  \n",
       "cluster             \n",
       "0             3280  \n",
       "1             2649  \n",
       "2              412  \n",
       "3             1073  \n",
       "4             1536  "
      ]
     },
     "execution_count": 53,
     "metadata": {},
     "output_type": "execute_result"
    }
   ],
   "source": [
    "# Descrição\n",
    "\n",
    "description = df_filtrado.groupby('cluster')\n",
    "n_clients = description.size()  # n clientes por cluster\n",
    "description = description.mean()  # média\n",
    "description['n_clients'] = n_clients\n",
    "description"
   ]
  },
  {
   "cell_type": "markdown",
   "id": "b5b8d657",
   "metadata": {},
   "source": [
    "***\n",
    "## Interpretando os clusters"
   ]
  },
  {
   "cell_type": "markdown",
   "id": "092c3a4b",
   "metadata": {},
   "source": [
    "    0: BALANCE baixo; PURCHASES médio; CASH_ADVANCE baixo; CREDIT_LIMIT alto_; PAYMENTS baixo;\n",
    "    1: BALANCE alto_; PURCHASES baixo; CASH_ADVANCE médio; CREDIT_LIMIT médio; PAYMENTS baixo;\n",
    "    2: BALANCE médio; PURCHASES médio; CASH_ADVANCE baixo; CREDIT_LIMIT baixo; PAYMENTS médio;\n",
    "    3: BALANCE médio; PURCHASES baixo; CASH_ADVANCE alto_; CREDIT_LIMIT médio; PAYMENTS alto_;\n",
    "    4: BALANCE médio; PURCHASES alto_; CASH_ADVANCE baixo; CREDIT_LIMIT médio; PAYMENTS alto_;"
   ]
  },
  {
   "cell_type": "markdown",
   "id": "577d5294",
   "metadata": {},
   "source": [
    "    CLUSTER 0: Clientes que gastam pouco. Maior limite.\n",
    "    CLUSTER 1: Clientes que mais gastam. O foco deles é saque.\n",
    "    CLUSTER 2: Clientes com o menor limite. \n",
    "    CLUSTER 3: Clientes que gastam muito com saques.\n",
    "    CLUSTER 4: Clientes que gastam muito com compras."
   ]
  },
  {
   "cell_type": "markdown",
   "id": "320a416b",
   "metadata": {},
   "source": [
    "### Como esta análise não fica tão clara, buscaremos o atributo \"PRC_FULL_PAYMENT\"\n",
    "    \n",
    "    (que indica o percentual de pagamento realizado pelo cliente)"
   ]
  },
  {
   "cell_type": "code",
   "execution_count": 58,
   "id": "e6ca39b2",
   "metadata": {},
   "outputs": [
    {
     "data": {
      "text/plain": [
       "cluster\n",
       "0    0.246806\n",
       "1    0.001799\n",
       "2    0.019271\n",
       "3    0.117430\n",
       "4    0.278331\n",
       "Name: PRC_FULL_PAYMENT, dtype: float64"
      ]
     },
     "execution_count": 58,
     "metadata": {},
     "output_type": "execute_result"
    }
   ],
   "source": [
    "df.groupby('cluster')['PRC_FULL_PAYMENT'].mean()"
   ]
  },
  {
   "cell_type": "markdown",
   "id": "e184ca24",
   "metadata": {},
   "source": [
    "    CLUSTER 0: Clientes que gastam pouco. Clientes com o maior limite. Bons pagadores. Maior número de clientes.\n",
    "    CLUSTER 1: Clientes que mais gastam. O foco deles é o saque. Piores pagadores. Boa quantidade de clientes.\n",
    "    CLUSTER 2: Clientes com o menor limite. Não são bons pagadores. Menor quantidade de clientes.\n",
    "    CLUSTER 3: Clientes que gastam muito com saques. Pagam as vezes.\n",
    "    CLUSTER 4: Clientes que gastam muito com compras. Melhores pagadores."
   ]
  },
  {
   "cell_type": "markdown",
   "id": "916077bd",
   "metadata": {},
   "source": [
    "***\n",
    "# Utilizando os clusters"
   ]
  },
  {
   "cell_type": "markdown",
   "id": "2c495e3b",
   "metadata": {},
   "source": [
    "Como podemos utilizar os clusters que geramos na prática? Descrevemos os padrões e caracterizamos cada grupo, mas de que forma esses dados serão aplicados?\n",
    "\n",
    "Uma ideia é aplicar uma estratégia de negócio em um dos grupos com o objetivo de aumentar o arrecadamento de dinheiro.\n",
    "\n",
    "O grupo mais adequado para isso seria o cluster 0, afinal ele possui o maior número de clientes, são bons pagadores, bom limite de crédito, mas gastam pouco. Nossa ideia é engajar esse grupo para que ele utilize mais o cartão de crédito.\n",
    "\n",
    "Outro grupo interessante para aumento de lucros é o cluster 2, afinal gastam muito com compras e são os melhores pagadores. Eles não possuem um limite de crédito alto, mas uma forma de incentivar ainda mais o uso do cartão de crédito é aumentar gradativamente o limite desse grupo.\n",
    "\n",
    "Para o grupo de apresenta os piores pagadores, teríamos de estruturar outro tipo de estratégia.\n",
    "\n",
    "Trabalharemos com o cluster 0. Queremos que esses clientes gastem mais para incentivar o lucro na empresa. Suponhamos que a estratégia seja fazer uma parceria com uma empresa de pontos que forneça benefícios para o cliente que usar mais o crédito.\n",
    "\n",
    "Para verificarmos se a nossa estratégia foi eficaz e utilizamos o grupo certo, faremos o chamado teste AB. Dividiremos o os clientes do cluster 0 em dois grupos: o grupo de controle e o grupo de teste.\n",
    "\n",
    "o grupo de controle permanecerá sem nenhuma modificação, ou seja, não haverá programa de pontos. Já o grupo de teste, em um período definido, receberá o programa de pontos.\n",
    "\n",
    "Ao final do período, verificaremos se as pessoas que participaram do programa de pontos gastaram mais com o cartão ou não. Assim teremos um resultado confiável, com clientes com características similares."
   ]
  },
  {
   "cell_type": "markdown",
   "id": "06cc2758",
   "metadata": {},
   "source": [
    " "
   ]
  }
 ],
 "metadata": {
  "kernelspec": {
   "display_name": "Python 3 (ipykernel)",
   "language": "python",
   "name": "python3"
  },
  "language_info": {
   "codemirror_mode": {
    "name": "ipython",
    "version": 3
   },
   "file_extension": ".py",
   "mimetype": "text/x-python",
   "name": "python",
   "nbconvert_exporter": "python",
   "pygments_lexer": "ipython3",
   "version": "3.11.4"
  }
 },
 "nbformat": 4,
 "nbformat_minor": 5
}
